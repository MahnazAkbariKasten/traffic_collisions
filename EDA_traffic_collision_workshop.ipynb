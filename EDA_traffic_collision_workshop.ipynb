{
 "cells": [
  {
   "cell_type": "markdown",
   "metadata": {},
   "source": [
    "# Exploratory Data Analysis Workshop\n",
    "\n",
    "June 24, 2020  \n",
    "\n",
    "#### Purpose of Workshop\n",
    "\n",
    "- improve skills\n",
    "- share experience\n",
    "- join the project \n",
    "\n",
    "#### TAs for the Workshop\n",
    "\n",
    "- Emily Glanz\n",
    "- Shad Sharma\n",
    "- Charlene Yan\n",
    "- Vince Lugli\n",
    "\n",
    "#### About Data Circles ([datacircles.org](https://datacircles.org))\n",
    "\n",
    "Data Circles (formerly SeaWiDS) exists to provide a place for women in data science to connect, build community, support each other and grow. In less than two years Data Circles, has grown into a community with more than 1,800 members.   \n",
    "\n",
    "Teams of volunteers organize monthly events in the Greater Seattle area, including: technical talks, informational panels, career development workshops, hackathons, conferences, networking events, book clubs, mentoring, study sessions, and interview prep.  \n",
    "\n",
    "Likewise, presenters Niwako and Erin are members of the Data Circles Project Circle, and the Projects Circle is organizing the Traffic Collision Analysis project described below.  \n",
    "\n",
    "The workshop materials can be found in the Data Circles [GitHub repository](https://github.com/datacircles). \n",
    "\n",
    "#### Other members of the Project Circle (moderators during the workshop)\n",
    "\n",
    "- Erika Pelaez\n",
    "- Houda Aynaou\n",
    "- Sowmya Vasan\n",
    "- Victoria Martin"
   ]
  },
  {
   "cell_type": "markdown",
   "metadata": {},
   "source": [
    "## 1. Introduction to the project\n",
    "\n",
    "Traffic collisions continue to be a serious problem. According to the [annual collision report for 2015](https://www.wsdot.wa.gov/mapsdata/crash/pdf/2015_Annual_Collision_Summary.pdf) released by the Washington State Dept. of Transportation (WSDOT), there were 117,053 collisions and approximately 59.7 billion miles driven. In 2015, there were  \n",
    "\n",
    "* 5,576,586 Licensed drivers  \n",
    "* 6,252,554 Registered vehicles  \n",
    "* 416,699 Speeding citations  \n",
    "* 33,697 Cell phone and texting citations   \n",
    "\n",
    "In that same year:  \n",
    "\n",
    "* Fridays had the most collisions;   \n",
    "* December had the most crashes (on average, 401 per day); and  \n",
    "* Driver inattention or distraction was the most frequent contributing factor  \n",
    "\n",
    "Like the WSDOT, the Seattle Department of Transportation (SDOT) also publishes annual reports. For example, the [2019 TRAFFIC REPORT](http://www.seattle.gov/Documents/Departments/SDOT/VisionZero/2019_Traffic_Report.pdf) is based on data from January 1 to December 31, 2018. The report states that \"Traffic volumes, speeds, and reported collisions are the three cardinal pieces of data traffic engineers and planners use to evaluate changes to Seattle streets.\"  \n",
    "\n",
    "Accordingly, this project looks at recent collision data to consider how much things have changed. The primary goal of the project is to identify the most dangerous sections of road in Seattle and suggest improvements.  \n",
    "\n",
    "Our data comes from the Seattle City GIS database, and for more information, see [seattlecitygis](https://data-seattlecitygis.opendata.arcgis.com/datasets/collisions).  \n",
    "\n",
    "_**If you are interested in joining the project, please signup for the Project Kickoff event on [meetup.com](https://www.meetup.com/Seattle-WiDS-Meetup/events/ncnksrybckblb/).**_    "
   ]
  },
  {
   "cell_type": "markdown",
   "metadata": {},
   "source": [
    "## 2. Purpose of exploratory data analysis (EDA)\n",
    "\n",
    "EDA is a process for learning about datasets; looking for patterns, characteristics, or points of interest; answering questions; and visualizing the results. This requires the analyst:  \n",
    "- to clean, reformat, and validate data;\n",
    "- to visualize distributions and relationships between variables; and \n",
    "- to use regression models to predict and explain.  \n",
    "\n",
    "Data exploration typically uses both manual data analysis and automated tools that extract data into initial reports that include data visualizations.  \n",
    "\n",
    "Although EDA is the first step in the data analysis process, it should be repeated if additional data is added. Summarizing the size, accuracy and initial patterns in the data provides insight into potential trends and identifies areas for further analysis or data refinement. The end result provides a more useful view of the data to guide further analysis.  \n",
    "\n",
    "### Project Specific Goals\n",
    "\n",
    "The ultimate project goals include:  \n",
    "\n",
    "1. Identify dangerous locations \n",
    "1. Identify predictors of accidents (e.g., physical characteristics of the location, road condition, DUI, weather)\n",
    "1. Examine increase or decrease in number of accidents over time\n",
    "1. Identify predictors of increase or decrease in the number of accidents\n",
    "1. Recommend improvements on dangerous locations\n",
    "\n",
    "- However, as you explore the dataset, other questions are likely to pop up in your head. \n",
    "- We recommend making a note of those questions as they may guide you through your project. \n",
    "- You are welcome to answer any questions you are interested in using this dataset.  \n",
    "\n",
    "In light of these goals, we will walk through the initial data exploration process together. "
   ]
  },
  {
   "cell_type": "markdown",
   "metadata": {},
   "source": [
    "## 3. Import packages"
   ]
  },
  {
   "cell_type": "code",
   "execution_count": 1,
   "metadata": {
    "colab": {},
    "colab_type": "code",
    "id": "sFG7fxc7tGes"
   },
   "outputs": [],
   "source": [
    "import numpy as np\n",
    "import pandas as pd\n",
    "import seaborn as sns\n",
    "import matplotlib.pyplot as plt\n",
    "%matplotlib inline\n",
    "\n",
    "pd.options.display.max_rows = 500\n",
    "pd.options.display.max_columns = 100\n",
    "\n",
    "import warnings\n",
    "warnings.filterwarnings(\"ignore\") \n",
    "\n",
    "from datetime import datetime\n",
    "from IPython.display import display, Markdown"
   ]
  },
  {
   "cell_type": "code",
   "execution_count": 2,
   "metadata": {
    "colab": {},
    "colab_type": "code",
    "id": "sFG7fxc7tGes"
   },
   "outputs": [],
   "source": [
    "# Run this cell to display all output within each cell in Jupyter Notebook, \n",
    "# instead of just the last statement\n",
    "\n",
    "from IPython.core.interactiveshell import InteractiveShell\n",
    "InteractiveShell.ast_node_interactivity = \"all\""
   ]
  },
  {
   "cell_type": "markdown",
   "metadata": {
    "slideshow": {
     "slide_type": "-"
    }
   },
   "source": [
    "## 4. Read the data into a dataframe\n",
    "\n",
    "It's always a good idea to keep a copy of the original data. So, we suggest saving the original collision data in a CSV file and a second CSV file with the manipulated data. \n",
    "\n",
    "For more information about the Pandas `read_csv` method, see the [read_csv documentation](https://pandas.pydata.org/pandas-docs/stable/reference/api/pandas.read_csv.html). There are many useful parameters that can be specified, e.g. data types, column names, null values, and etc.   "
   ]
  },
  {
   "cell_type": "code",
   "execution_count": 3,
   "metadata": {},
   "outputs": [],
   "source": [
    "# To read a CSV file from the web\n",
    "\n",
    "url = \"https://data-seattlecitygis.opendata.arcgis.com/datasets/5b5c745e0f1f48e7a53acec63a0022ab_0.csv\"\n",
    "rdf = pd.read_csv(url, parse_dates=[\"INCDTTM\"])"
   ]
  },
  {
   "cell_type": "markdown",
   "metadata": {},
   "source": [
    "---------------------\n",
    "### OPTIONAL -- save the CSV file \n",
    "\n",
    "It's good practice to save a copy of the original data, but it is not necessary for this workshop. If you want to write a copy of the df to your hard drive, follow run the cells below:"
   ]
  },
  {
   "cell_type": "code",
   "execution_count": 4,
   "metadata": {},
   "outputs": [
    {
     "name": "stdout",
     "output_type": "stream",
     "text": [
      "/Users/niwako/Workspace/traffic_collisions\n"
     ]
    }
   ],
   "source": [
    "# To see where the CSV file will be saved, run the\n",
    "# print working directory (pwd) shell command:\n",
    "\n",
    "! pwd"
   ]
  },
  {
   "cell_type": "code",
   "execution_count": 5,
   "metadata": {},
   "outputs": [],
   "source": [
    "df = rdf.copy()"
   ]
  },
  {
   "cell_type": "code",
   "execution_count": 6,
   "metadata": {},
   "outputs": [
    {
     "name": "stdout",
     "output_type": "stream",
     "text": [
      "collision_data_6222020_raw.csv saved\n"
     ]
    }
   ],
   "source": [
    "# To save the CSV file data locally in your working directory:\n",
    "\n",
    "def save_csv_file(df, raw=True):\n",
    "    \n",
    "    from datetime import datetime\n",
    "    \n",
    "    now = datetime.now()\n",
    "    \n",
    "    if raw is True:\n",
    "        file_name = \"collision_data_{}{}{}_raw.csv\".format(now.month, now.day, now.year)\n",
    "    else:\n",
    "        file_name = \"collision_data_{}{}{}_mod.csv\".format(now.month, now.day, now.year)\n",
    "        \n",
    "    df.to_csv(file_name, encoding=\"utf-8\", index=False) \n",
    "    \n",
    "    print(\"{file} saved\".format(file=file_name))\n",
    "\n",
    "    \n",
    "save_csv_file(rdf, True)"
   ]
  },
  {
   "cell_type": "code",
   "execution_count": 7,
   "metadata": {},
   "outputs": [
    {
     "name": "stdout",
     "output_type": "stream",
     "text": [
      "EDA_traffic_collision_workshop.ipynb collision_data_6222020_raw.csv\n",
      "LICENSE                              instructions.md\n",
      "README.md\n"
     ]
    }
   ],
   "source": [
    "# the ls command shows a list of all files in the current folder (aka directory)\n",
    "# the collision_data CSV file should be in the list\n",
    "! ls"
   ]
  },
  {
   "cell_type": "code",
   "execution_count": 8,
   "metadata": {},
   "outputs": [],
   "source": [
    "# To read a locally saved CSV file\n",
    "\n",
    "# local_file_name = \"collision_data_6162020_raw.csv\"  # or whatever your file name is\n",
    "# rdf = pd.read_csv(local_file_name, parse_dates=[\"INCDTTM\"])\n",
    "\n",
    "# df = rdf.copy()\n",
    "\n",
    "#local_file_name = \"collision_data_6162220_raw.csv\"  # or whatever your file name is\n",
    "#rdf = pd.read_csv(local_file_name, parse_dates=[\"INCDTTM\"])\n",
    "#print(\"done\")"
   ]
  },
  {
   "cell_type": "markdown",
   "metadata": {},
   "source": [
    "## 5. Look at the overall picture of the dataframe"
   ]
  },
  {
   "cell_type": "code",
   "execution_count": 9,
   "metadata": {},
   "outputs": [
    {
     "data": {
      "text/plain": [
       "(220043, 40)"
      ]
     },
     "execution_count": 9,
     "metadata": {},
     "output_type": "execute_result"
    }
   ],
   "source": [
    "df.shape"
   ]
  },
  {
   "cell_type": "code",
   "execution_count": 10,
   "metadata": {},
   "outputs": [
    {
     "data": {
      "text/plain": [
       "Index(['X', 'Y', 'OBJECTID', 'INCKEY', 'COLDETKEY', 'REPORTNO', 'STATUS',\n",
       "       'ADDRTYPE', 'INTKEY', 'LOCATION', 'EXCEPTRSNCODE', 'EXCEPTRSNDESC',\n",
       "       'SEVERITYCODE', 'SEVERITYDESC', 'COLLISIONTYPE', 'PERSONCOUNT',\n",
       "       'PEDCOUNT', 'PEDCYLCOUNT', 'VEHCOUNT', 'INJURIES', 'SERIOUSINJURIES',\n",
       "       'FATALITIES', 'INCDATE', 'INCDTTM', 'JUNCTIONTYPE', 'SDOT_COLCODE',\n",
       "       'SDOT_COLDESC', 'INATTENTIONIND', 'UNDERINFL', 'WEATHER', 'ROADCOND',\n",
       "       'LIGHTCOND', 'PEDROWNOTGRNT', 'SDOTCOLNUM', 'SPEEDING', 'ST_COLCODE',\n",
       "       'ST_COLDESC', 'SEGLANEKEY', 'CROSSWALKKEY', 'HITPARKEDCAR'],\n",
       "      dtype='object')"
      ]
     },
     "execution_count": 10,
     "metadata": {},
     "output_type": "execute_result"
    }
   ],
   "source": [
    "df.columns"
   ]
  },
  {
   "cell_type": "markdown",
   "metadata": {},
   "source": [
    "### About the original column variables\n",
    "\n",
    "\n",
    "__-- TO DO: MAKE SURE ALL COLUMNS ARE LISTED__  \n",
    " \n",
    "X - longitude, the GPS values moving left to right (East and West) along the X axis  \n",
    "Y - latitude, represented by horizontal lines, which go up and down (North and South)  \n",
    "OBJECTID - ESRI unique identifier  \n",
    "INCKEY - a unique key for the incident, variable type: Long  \n",
    "COLDETKEY - a secondary key for the incident, variable type: Long  \n",
    "REPORTNO -  \n",
    "STATUS -  \n",
    "ADDRTYPE - Collision address location type, variable type: text, 12 VARCHAR  \n",
    "$\\,\\,$ • Alley  \n",
    "$\\,\\,$ • Block  \n",
    "$\\,\\,$ • Intersection   \n",
    "INTKEY - a key that corresponds to the intersection associated with a collision, variable type: Double  \n",
    "LOCATION -  \n",
    "EXCEPTRSNCODE -  \n",
    "EXCEPTRSNDESC -  \n",
    "SEVERITYCODE - a code that corresponds to the severity of the collision:  \n",
    "$\\,\\,$ 3 — fatality  \n",
    "$\\,\\,$ 2b — serious injury  \n",
    "$\\,\\,$ 2 — injury  \n",
    "$\\,\\,$ 1 — prop damage  \n",
    "$\\,\\,$ 0 — unknown  \n",
    "SEVERITYDESC -  \n",
    "COLLISIONTYPE -  \n",
    "PERSONCOUNT -  \n",
    "PEDCOUNT -  \n",
    "PEDCYLCOUNT -  \n",
    "VEHCOUNT -  \n",
    "INJURIES - the total number of injuries other than fatal or disabling at the scene, including broken fingers or toes, abrasions, etc.  \n",
    "SERIOUSINJURIES - total number of injuries that result in at least a temporary impairment, e.g. a broken limb. It does not mean that the collision resulted in a permanent disability  \n",
    "FATALITIES - includes the total number of persons who died at the scene of the collisions, were dead on arrival at the hospital, or died within 30 days of the collision from collision-related injuries  \n",
    "INCDATE - incident date   \n",
    "INCDTTM - date and time of the incident, variable type: text, 30 VARCHAR  \n",
    "JUNCTIONTYPE - category of the junction where the collision took place  \n",
    "SDOT_COLCODE - the SDOT collision code    \n",
    "SDOT_COLDESC - a description of the collision corresponding to the collision code  \n",
    "INATTENTIONIND - whether or not collision was due to inattention. (Y/N)  \n",
    "UNDERINFL -  \n",
    "WEATHER -  \n",
    "ROADCOND -  \n",
    "LIGHTCOND -  \n",
    "PEDROWNOTGRNT - whether or not the pedestrian right of way was not granted. (Y/N)  \n",
    "SDOTCOLNUM -  \n",
    "SPEEDING -  \n",
    "ST_COLCODE - code provided by the state that describes the collision, for example: \n",
    "$\\,\\,$ 0 - Vehicle Going Straight Hits Pedestrian  \n",
    "$\\,\\,$ 1 - Vehicle Turning Right Hits Pedestrian  \n",
    "$\\,\\,$ 2 - Vehicle Turning Left Hits Pedestrian  \n",
    "$\\,\\,$ 3 - Vehicle Backing Hits Pedestrian  \n",
    "$\\,\\,$ 4 - Vehicle Hits Pedestrian - All Other Actions  \n",
    "$\\,\\,$ 5 - Vehicle Hits Pedestrian - Actions Not Stated  \n",
    "$\\,\\,$ 10 - Entering At Angle   \n",
    "$\\,\\,$ 11 - From Same Direction - Both Going Straight - Both Moving - Sideswipe  \n",
    "$\\,\\,$ 12 - From Same Direction - Both Going Straight - One Stopped - Sideswipe  \n",
    "$\\,\\,$ 13 - From Same Direction - Both Going Straight - Both Moving - Rear End  \n",
    "$\\,\\,$ ...  \n",
    "ST_COLDESC - a description that corresponds to the state’s coding designation    \n",
    "SEGLANEKEY - a key for the lane segment in which the collision occurred  \n",
    "CROSSWALKKEY - a key for the crosswalk at which the collision occurred  "
   ]
  },
  {
   "cell_type": "code",
   "execution_count": 11,
   "metadata": {},
   "outputs": [
    {
     "data": {
      "text/html": [
       "<div>\n",
       "<style scoped>\n",
       "    .dataframe tbody tr th:only-of-type {\n",
       "        vertical-align: middle;\n",
       "    }\n",
       "\n",
       "    .dataframe tbody tr th {\n",
       "        vertical-align: top;\n",
       "    }\n",
       "\n",
       "    .dataframe thead th {\n",
       "        text-align: right;\n",
       "    }\n",
       "</style>\n",
       "<table border=\"1\" class=\"dataframe\">\n",
       "  <thead>\n",
       "    <tr style=\"text-align: right;\">\n",
       "      <th></th>\n",
       "      <th>data_type</th>\n",
       "      <th>percent_missing_values</th>\n",
       "      <th>total_unique_values</th>\n",
       "    </tr>\n",
       "  </thead>\n",
       "  <tbody>\n",
       "    <tr>\n",
       "      <th>PEDROWNOTGRNT</th>\n",
       "      <td>object</td>\n",
       "      <td>97.65</td>\n",
       "      <td>1</td>\n",
       "    </tr>\n",
       "    <tr>\n",
       "      <th>SPEEDING</th>\n",
       "      <td>object</td>\n",
       "      <td>95.52</td>\n",
       "      <td>1</td>\n",
       "    </tr>\n",
       "    <tr>\n",
       "      <th>EXCEPTRSNDESC</th>\n",
       "      <td>object</td>\n",
       "      <td>94.67</td>\n",
       "      <td>1</td>\n",
       "    </tr>\n",
       "    <tr>\n",
       "      <th>INATTENTIONIND</th>\n",
       "      <td>object</td>\n",
       "      <td>86.28</td>\n",
       "      <td>1</td>\n",
       "    </tr>\n",
       "    <tr>\n",
       "      <th>INTKEY</th>\n",
       "      <td>float64</td>\n",
       "      <td>67.57</td>\n",
       "      <td>7890</td>\n",
       "    </tr>\n",
       "    <tr>\n",
       "      <th>EXCEPTRSNCODE</th>\n",
       "      <td>object</td>\n",
       "      <td>54.72</td>\n",
       "      <td>2</td>\n",
       "    </tr>\n",
       "    <tr>\n",
       "      <th>SDOTCOLNUM</th>\n",
       "      <td>float64</td>\n",
       "      <td>42.19</td>\n",
       "      <td>127186</td>\n",
       "    </tr>\n",
       "    <tr>\n",
       "      <th>LIGHTCOND</th>\n",
       "      <td>object</td>\n",
       "      <td>12.06</td>\n",
       "      <td>9</td>\n",
       "    </tr>\n",
       "    <tr>\n",
       "      <th>WEATHER</th>\n",
       "      <td>object</td>\n",
       "      <td>12.02</td>\n",
       "      <td>11</td>\n",
       "    </tr>\n",
       "    <tr>\n",
       "      <th>ROADCOND</th>\n",
       "      <td>object</td>\n",
       "      <td>11.99</td>\n",
       "      <td>9</td>\n",
       "    </tr>\n",
       "    <tr>\n",
       "      <th>ST_COLDESC</th>\n",
       "      <td>object</td>\n",
       "      <td>11.94</td>\n",
       "      <td>62</td>\n",
       "    </tr>\n",
       "    <tr>\n",
       "      <th>COLLISIONTYPE</th>\n",
       "      <td>object</td>\n",
       "      <td>11.94</td>\n",
       "      <td>10</td>\n",
       "    </tr>\n",
       "    <tr>\n",
       "      <th>UNDERINFL</th>\n",
       "      <td>object</td>\n",
       "      <td>11.93</td>\n",
       "      <td>4</td>\n",
       "    </tr>\n",
       "    <tr>\n",
       "      <th>JUNCTIONTYPE</th>\n",
       "      <td>object</td>\n",
       "      <td>5.42</td>\n",
       "      <td>7</td>\n",
       "    </tr>\n",
       "    <tr>\n",
       "      <th>ST_COLCODE</th>\n",
       "      <td>object</td>\n",
       "      <td>4.28</td>\n",
       "      <td>63</td>\n",
       "    </tr>\n",
       "    <tr>\n",
       "      <th>Y</th>\n",
       "      <td>float64</td>\n",
       "      <td>3.39</td>\n",
       "      <td>24915</td>\n",
       "    </tr>\n",
       "    <tr>\n",
       "      <th>X</th>\n",
       "      <td>float64</td>\n",
       "      <td>3.39</td>\n",
       "      <td>24915</td>\n",
       "    </tr>\n",
       "    <tr>\n",
       "      <th>LOCATION</th>\n",
       "      <td>object</td>\n",
       "      <td>2.08</td>\n",
       "      <td>25143</td>\n",
       "    </tr>\n",
       "    <tr>\n",
       "      <th>ADDRTYPE</th>\n",
       "      <td>object</td>\n",
       "      <td>1.68</td>\n",
       "      <td>3</td>\n",
       "    </tr>\n",
       "    <tr>\n",
       "      <th>SEGLANEKEY</th>\n",
       "      <td>int64</td>\n",
       "      <td>0.00</td>\n",
       "      <td>2100</td>\n",
       "    </tr>\n",
       "    <tr>\n",
       "      <th>CROSSWALKKEY</th>\n",
       "      <td>int64</td>\n",
       "      <td>0.00</td>\n",
       "      <td>2341</td>\n",
       "    </tr>\n",
       "    <tr>\n",
       "      <th>SDOT_COLDESC</th>\n",
       "      <td>object</td>\n",
       "      <td>0.00</td>\n",
       "      <td>39</td>\n",
       "    </tr>\n",
       "    <tr>\n",
       "      <th>SDOT_COLCODE</th>\n",
       "      <td>float64</td>\n",
       "      <td>0.00</td>\n",
       "      <td>39</td>\n",
       "    </tr>\n",
       "    <tr>\n",
       "      <th>SERIOUSINJURIES</th>\n",
       "      <td>int64</td>\n",
       "      <td>0.00</td>\n",
       "      <td>7</td>\n",
       "    </tr>\n",
       "    <tr>\n",
       "      <th>INCDTTM</th>\n",
       "      <td>datetime64[ns]</td>\n",
       "      <td>0.00</td>\n",
       "      <td>168074</td>\n",
       "    </tr>\n",
       "  </tbody>\n",
       "</table>\n",
       "</div>"
      ],
      "text/plain": [
       "                      data_type  percent_missing_values  total_unique_values\n",
       "PEDROWNOTGRNT            object                   97.65                    1\n",
       "SPEEDING                 object                   95.52                    1\n",
       "EXCEPTRSNDESC            object                   94.67                    1\n",
       "INATTENTIONIND           object                   86.28                    1\n",
       "INTKEY                  float64                   67.57                 7890\n",
       "EXCEPTRSNCODE            object                   54.72                    2\n",
       "SDOTCOLNUM              float64                   42.19               127186\n",
       "LIGHTCOND                object                   12.06                    9\n",
       "WEATHER                  object                   12.02                   11\n",
       "ROADCOND                 object                   11.99                    9\n",
       "ST_COLDESC               object                   11.94                   62\n",
       "COLLISIONTYPE            object                   11.94                   10\n",
       "UNDERINFL                object                   11.93                    4\n",
       "JUNCTIONTYPE             object                    5.42                    7\n",
       "ST_COLCODE               object                    4.28                   63\n",
       "Y                       float64                    3.39                24915\n",
       "X                       float64                    3.39                24915\n",
       "LOCATION                 object                    2.08                25143\n",
       "ADDRTYPE                 object                    1.68                    3\n",
       "SEGLANEKEY                int64                    0.00                 2100\n",
       "CROSSWALKKEY              int64                    0.00                 2341\n",
       "SDOT_COLDESC             object                    0.00                   39\n",
       "SDOT_COLCODE            float64                    0.00                   39\n",
       "SERIOUSINJURIES           int64                    0.00                    7\n",
       "INCDTTM          datetime64[ns]                    0.00               168074"
      ]
     },
     "execution_count": 11,
     "metadata": {},
     "output_type": "execute_result"
    }
   ],
   "source": [
    "# Consider how many missing and unique values there are in each column\n",
    "\n",
    "col_na = round(100*(df.isna().sum()/len(df)), 2)\n",
    "col_nunique = df.nunique()    \n",
    "df_summary = pd.DataFrame({\"data_type\": df.dtypes,\n",
    "                           \"percent_missing_values\": col_na,\n",
    "                           \"total_unique_values\": col_nunique}).sort_values(by=[\"percent_missing_values\"],\n",
    "                                                                            ascending=False)\n",
    "df_summary.head(25)"
   ]
  },
  {
   "cell_type": "markdown",
   "metadata": {},
   "source": [
    "## 6. Understand the dataframe in relation to the questions at hand"
   ]
  },
  {
   "cell_type": "markdown",
   "metadata": {},
   "source": [
    "## a. Numeric variables"
   ]
  },
  {
   "cell_type": "markdown",
   "metadata": {},
   "source": [
    "These variables provide information about what each accident looked like. \n",
    "\n",
    "- PERSONCOUNT (# of people invovled)\n",
    "- PEDCOUNT (# of pedestirans)\n",
    "- PEDCYLCOUNT (# of cyclists)\n",
    "- VEHCOUNT (# of vehicles)\n",
    "- INJURIES (# of injuries)\n",
    "- SERIOUSINJURIES (# of serious injuries)\n",
    "- FATALITIES (# of deaths)"
   ]
  },
  {
   "cell_type": "markdown",
   "metadata": {},
   "source": [
    "## b. Non-numeric columns of interest\n",
    "\n",
    "These string and categorical variables provide information about the situation or environment in which each accident occurred and could be used as predictors of accidents.   "
   ]
  },
  {
   "cell_type": "markdown",
   "metadata": {},
   "source": [
    "### External (i.e., not dependent on the characteristics of the collision site) factors\n",
    "- LIGHTCOND (light condition)   \n",
    "- WEATHER (description of the weather conditions during the time of the collision)   \n",
    "\n",
    "### Human factors\n",
    "- INATTENTIONIND (whether or not collision was due to inattention)\n",
    "- UNDERINFL (whether or not a driver involved was under the influence)\n",
    "- PEDROWNOTGRNT(Whether pedestrian had the right of way)\n",
    "- SPEEDING (whether or not speeding was a factor in the collision)\n",
    "\n",
    "### Characteristics of the site\n",
    "- ADDRTYPE (address type)\n",
    "- LOCATION (described in street names)\n",
    "- JUNCTIONTYPE (junction type)\n",
    "- ROADCOND (road condition)\n"
   ]
  },
  {
   "cell_type": "markdown",
   "metadata": {},
   "source": [
    "## 7. Cleaning at the dataframe level\n",
    "\n",
    "It can be helpful to evaluate the dataframe as a whole and do dataframe level cleaning and formatting before drilling down into the individual variables. This includes tasks like renaming columns, removing duplicate rows, changing column datatypes, or dropping any clearly unnecessary columns (especially if memory is an issue).  \n",
    "\n",
    "Depending on the complexity of your dataset and how familiar you are with the the domain knowledge, some of these tasks will need to be completed after you work with the individual variables, _i.e._ at the column level.  \n",
    "\n",
    "This might also be a good point to merge multiple dataframes if you're working with multiple datasets.  "
   ]
  },
  {
   "cell_type": "markdown",
   "metadata": {},
   "source": [
    "## a. Consider renaming columns\n",
    "\n",
    "If you want to use new naming conventions for variables, it is better to make the change earlier. For example, it often makes sense to change all the column names to lowercase or add underscores between words. "
   ]
  },
  {
   "cell_type": "code",
   "execution_count": 12,
   "metadata": {},
   "outputs": [
    {
     "data": {
      "text/html": [
       "<div>\n",
       "<style scoped>\n",
       "    .dataframe tbody tr th:only-of-type {\n",
       "        vertical-align: middle;\n",
       "    }\n",
       "\n",
       "    .dataframe tbody tr th {\n",
       "        vertical-align: top;\n",
       "    }\n",
       "\n",
       "    .dataframe thead th {\n",
       "        text-align: right;\n",
       "    }\n",
       "</style>\n",
       "<table border=\"1\" class=\"dataframe\">\n",
       "  <thead>\n",
       "    <tr style=\"text-align: right;\">\n",
       "      <th></th>\n",
       "      <th>x</th>\n",
       "      <th>y</th>\n",
       "      <th>objectid</th>\n",
       "      <th>inckey</th>\n",
       "      <th>coldetkey</th>\n",
       "      <th>reportno</th>\n",
       "      <th>status</th>\n",
       "      <th>addrtype</th>\n",
       "      <th>intkey</th>\n",
       "      <th>location</th>\n",
       "      <th>exceptrsncode</th>\n",
       "      <th>exceptrsndesc</th>\n",
       "      <th>severitycode</th>\n",
       "      <th>severitydesc</th>\n",
       "      <th>collisiontype</th>\n",
       "      <th>personcount</th>\n",
       "      <th>pedcount</th>\n",
       "      <th>pedcylcount</th>\n",
       "      <th>vehcount</th>\n",
       "      <th>injuries</th>\n",
       "      <th>seriousinjuries</th>\n",
       "      <th>fatalities</th>\n",
       "      <th>incdate</th>\n",
       "      <th>incdttm</th>\n",
       "      <th>junctiontype</th>\n",
       "      <th>sdot_colcode</th>\n",
       "      <th>sdot_coldesc</th>\n",
       "      <th>inattentionind</th>\n",
       "      <th>underinfl</th>\n",
       "      <th>weather</th>\n",
       "      <th>roadcond</th>\n",
       "      <th>lightcond</th>\n",
       "      <th>pedrownotgrnt</th>\n",
       "      <th>sdotcolnum</th>\n",
       "      <th>speeding</th>\n",
       "      <th>st_colcode</th>\n",
       "      <th>st_coldesc</th>\n",
       "      <th>seglanekey</th>\n",
       "      <th>crosswalkkey</th>\n",
       "      <th>hitparkedcar</th>\n",
       "    </tr>\n",
       "  </thead>\n",
       "  <tbody>\n",
       "    <tr>\n",
       "      <th>0</th>\n",
       "      <td>-122.323966</td>\n",
       "      <td>47.606374</td>\n",
       "      <td>1</td>\n",
       "      <td>32800</td>\n",
       "      <td>32800</td>\n",
       "      <td>2128498</td>\n",
       "      <td>Matched</td>\n",
       "      <td>Block</td>\n",
       "      <td>NaN</td>\n",
       "      <td>TERRY AVE BETWEEN JAMES ST AND CHERRY ST</td>\n",
       "      <td>NaN</td>\n",
       "      <td>NaN</td>\n",
       "      <td>1</td>\n",
       "      <td>Property Damage Only Collision</td>\n",
       "      <td>Parked Car</td>\n",
       "      <td>2</td>\n",
       "      <td>0</td>\n",
       "      <td>0</td>\n",
       "      <td>2</td>\n",
       "      <td>0</td>\n",
       "      <td>0</td>\n",
       "      <td>0</td>\n",
       "      <td>2005/12/22 00:00:00+00</td>\n",
       "      <td>2005-12-22 17:13:00</td>\n",
       "      <td>Mid-Block (not related to intersection)</td>\n",
       "      <td>13.0</td>\n",
       "      <td>MOTOR VEHICLE STRUCK MOTOR VEHICLE, LEFT SIDE ...</td>\n",
       "      <td>NaN</td>\n",
       "      <td>0</td>\n",
       "      <td>Raining</td>\n",
       "      <td>Wet</td>\n",
       "      <td>Dark - No Street Lights</td>\n",
       "      <td>NaN</td>\n",
       "      <td>5356027.0</td>\n",
       "      <td>NaN</td>\n",
       "      <td>32</td>\n",
       "      <td>One parked--one moving</td>\n",
       "      <td>0</td>\n",
       "      <td>0</td>\n",
       "      <td>N</td>\n",
       "    </tr>\n",
       "    <tr>\n",
       "      <th>1</th>\n",
       "      <td>-122.329588</td>\n",
       "      <td>47.545337</td>\n",
       "      <td>2</td>\n",
       "      <td>59200</td>\n",
       "      <td>59200</td>\n",
       "      <td>C679570</td>\n",
       "      <td>Matched</td>\n",
       "      <td>Intersection</td>\n",
       "      <td>34219.0</td>\n",
       "      <td>4TH AVE S AND S MICHIGAN ST</td>\n",
       "      <td>NaN</td>\n",
       "      <td>NaN</td>\n",
       "      <td>1</td>\n",
       "      <td>Property Damage Only Collision</td>\n",
       "      <td>Rear Ended</td>\n",
       "      <td>2</td>\n",
       "      <td>0</td>\n",
       "      <td>0</td>\n",
       "      <td>2</td>\n",
       "      <td>0</td>\n",
       "      <td>0</td>\n",
       "      <td>0</td>\n",
       "      <td>2006/12/30 00:00:00+00</td>\n",
       "      <td>2006-12-30 10:55:00</td>\n",
       "      <td>At Intersection (intersection related)</td>\n",
       "      <td>14.0</td>\n",
       "      <td>MOTOR VEHICLE STRUCK MOTOR VEHICLE, REAR END</td>\n",
       "      <td>NaN</td>\n",
       "      <td>0</td>\n",
       "      <td>Clear</td>\n",
       "      <td>Dry</td>\n",
       "      <td>Daylight</td>\n",
       "      <td>NaN</td>\n",
       "      <td>6364026.0</td>\n",
       "      <td>NaN</td>\n",
       "      <td>13</td>\n",
       "      <td>From same direction - both going straight - bo...</td>\n",
       "      <td>0</td>\n",
       "      <td>0</td>\n",
       "      <td>N</td>\n",
       "    </tr>\n",
       "  </tbody>\n",
       "</table>\n",
       "</div>"
      ],
      "text/plain": [
       "            x          y  objectid  inckey  coldetkey reportno   status  \\\n",
       "0 -122.323966  47.606374         1   32800      32800  2128498  Matched   \n",
       "1 -122.329588  47.545337         2   59200      59200  C679570  Matched   \n",
       "\n",
       "       addrtype   intkey                                  location  \\\n",
       "0         Block      NaN  TERRY AVE BETWEEN JAMES ST AND CHERRY ST   \n",
       "1  Intersection  34219.0               4TH AVE S AND S MICHIGAN ST   \n",
       "\n",
       "  exceptrsncode exceptrsndesc severitycode                    severitydesc  \\\n",
       "0           NaN           NaN            1  Property Damage Only Collision   \n",
       "1           NaN           NaN            1  Property Damage Only Collision   \n",
       "\n",
       "  collisiontype  personcount  pedcount  pedcylcount  vehcount  injuries  \\\n",
       "0    Parked Car            2         0            0         2         0   \n",
       "1    Rear Ended            2         0            0         2         0   \n",
       "\n",
       "   seriousinjuries  fatalities                 incdate             incdttm  \\\n",
       "0                0           0  2005/12/22 00:00:00+00 2005-12-22 17:13:00   \n",
       "1                0           0  2006/12/30 00:00:00+00 2006-12-30 10:55:00   \n",
       "\n",
       "                              junctiontype  sdot_colcode  \\\n",
       "0  Mid-Block (not related to intersection)          13.0   \n",
       "1   At Intersection (intersection related)          14.0   \n",
       "\n",
       "                                        sdot_coldesc inattentionind underinfl  \\\n",
       "0  MOTOR VEHICLE STRUCK MOTOR VEHICLE, LEFT SIDE ...            NaN         0   \n",
       "1       MOTOR VEHICLE STRUCK MOTOR VEHICLE, REAR END            NaN         0   \n",
       "\n",
       "   weather roadcond                lightcond pedrownotgrnt  sdotcolnum  \\\n",
       "0  Raining      Wet  Dark - No Street Lights           NaN   5356027.0   \n",
       "1    Clear      Dry                 Daylight           NaN   6364026.0   \n",
       "\n",
       "  speeding st_colcode                                         st_coldesc  \\\n",
       "0      NaN         32                             One parked--one moving   \n",
       "1      NaN         13  From same direction - both going straight - bo...   \n",
       "\n",
       "   seglanekey  crosswalkkey hitparkedcar  \n",
       "0           0             0            N  \n",
       "1           0             0            N  "
      ]
     },
     "execution_count": 12,
     "metadata": {},
     "output_type": "execute_result"
    }
   ],
   "source": [
    "# Example -- how to make all column names lowercase\n",
    "\n",
    "df.columns = map(str.lower, df.columns)\n",
    "df.head(2)"
   ]
  },
  {
   "cell_type": "markdown",
   "metadata": {},
   "source": [
    "## b. Consider dropping columns\n",
    "\n",
    "It is a bit risky to drop columns at this point, but if there are columns that are clearly unhelpful or missing a huge amount of data, then dropping those columns is reasonable.  "
   ]
  },
  {
   "cell_type": "markdown",
   "metadata": {},
   "source": [
    "### Would you drop any of the columns with missing data? Why or why not?\n",
    "  \n",
    "How much missing data is too much? What is the right threshold?   \n",
    "\n",
    "Let's look at the columns missing the most data. "
   ]
  },
  {
   "cell_type": "code",
   "execution_count": 13,
   "metadata": {},
   "outputs": [
    {
     "data": {
      "text/html": [
       "<div>\n",
       "<style scoped>\n",
       "    .dataframe tbody tr th:only-of-type {\n",
       "        vertical-align: middle;\n",
       "    }\n",
       "\n",
       "    .dataframe tbody tr th {\n",
       "        vertical-align: top;\n",
       "    }\n",
       "\n",
       "    .dataframe thead th {\n",
       "        text-align: right;\n",
       "    }\n",
       "</style>\n",
       "<table border=\"1\" class=\"dataframe\">\n",
       "  <thead>\n",
       "    <tr style=\"text-align: right;\">\n",
       "      <th></th>\n",
       "      <th>data_type</th>\n",
       "      <th>percent_missing_values</th>\n",
       "      <th>total_unique_values</th>\n",
       "    </tr>\n",
       "  </thead>\n",
       "  <tbody>\n",
       "    <tr>\n",
       "      <th>PEDROWNOTGRNT</th>\n",
       "      <td>object</td>\n",
       "      <td>97.65</td>\n",
       "      <td>1</td>\n",
       "    </tr>\n",
       "    <tr>\n",
       "      <th>SPEEDING</th>\n",
       "      <td>object</td>\n",
       "      <td>95.52</td>\n",
       "      <td>1</td>\n",
       "    </tr>\n",
       "    <tr>\n",
       "      <th>EXCEPTRSNDESC</th>\n",
       "      <td>object</td>\n",
       "      <td>94.67</td>\n",
       "      <td>1</td>\n",
       "    </tr>\n",
       "    <tr>\n",
       "      <th>INATTENTIONIND</th>\n",
       "      <td>object</td>\n",
       "      <td>86.28</td>\n",
       "      <td>1</td>\n",
       "    </tr>\n",
       "  </tbody>\n",
       "</table>\n",
       "</div>"
      ],
      "text/plain": [
       "               data_type  percent_missing_values  total_unique_values\n",
       "PEDROWNOTGRNT     object                   97.65                    1\n",
       "SPEEDING          object                   95.52                    1\n",
       "EXCEPTRSNDESC     object                   94.67                    1\n",
       "INATTENTIONIND    object                   86.28                    1"
      ]
     },
     "metadata": {},
     "output_type": "display_data"
    }
   ],
   "source": [
    "# Columns missing the most data\n",
    "\n",
    "display(df_summary[df_summary[\"percent_missing_values\"] > 80])"
   ]
  },
  {
   "cell_type": "markdown",
   "metadata": {},
   "source": [
    "### Would you drop any unnecessary columns?\n",
    "\n",
    "For example, `objectid` is essentially an index column, so you could drop it. But this might make things difficult later if you want to merge on `objectid`.  "
   ]
  },
  {
   "cell_type": "code",
   "execution_count": 14,
   "metadata": {},
   "outputs": [
    {
     "data": {
      "text/html": [
       "<div>\n",
       "<style scoped>\n",
       "    .dataframe tbody tr th:only-of-type {\n",
       "        vertical-align: middle;\n",
       "    }\n",
       "\n",
       "    .dataframe tbody tr th {\n",
       "        vertical-align: top;\n",
       "    }\n",
       "\n",
       "    .dataframe thead th {\n",
       "        text-align: right;\n",
       "    }\n",
       "</style>\n",
       "<table border=\"1\" class=\"dataframe\">\n",
       "  <thead>\n",
       "    <tr style=\"text-align: right;\">\n",
       "      <th></th>\n",
       "      <th>x</th>\n",
       "      <th>y</th>\n",
       "      <th>inckey</th>\n",
       "      <th>coldetkey</th>\n",
       "      <th>reportno</th>\n",
       "      <th>status</th>\n",
       "      <th>addrtype</th>\n",
       "      <th>intkey</th>\n",
       "      <th>location</th>\n",
       "      <th>exceptrsncode</th>\n",
       "      <th>exceptrsndesc</th>\n",
       "      <th>severitycode</th>\n",
       "      <th>severitydesc</th>\n",
       "      <th>collisiontype</th>\n",
       "      <th>personcount</th>\n",
       "      <th>pedcount</th>\n",
       "      <th>pedcylcount</th>\n",
       "      <th>vehcount</th>\n",
       "      <th>injuries</th>\n",
       "      <th>seriousinjuries</th>\n",
       "      <th>fatalities</th>\n",
       "      <th>incdate</th>\n",
       "      <th>incdttm</th>\n",
       "      <th>junctiontype</th>\n",
       "      <th>sdot_colcode</th>\n",
       "      <th>sdot_coldesc</th>\n",
       "      <th>inattentionind</th>\n",
       "      <th>underinfl</th>\n",
       "      <th>weather</th>\n",
       "      <th>roadcond</th>\n",
       "      <th>lightcond</th>\n",
       "      <th>pedrownotgrnt</th>\n",
       "      <th>sdotcolnum</th>\n",
       "      <th>speeding</th>\n",
       "      <th>st_colcode</th>\n",
       "      <th>st_coldesc</th>\n",
       "      <th>seglanekey</th>\n",
       "      <th>crosswalkkey</th>\n",
       "      <th>hitparkedcar</th>\n",
       "    </tr>\n",
       "  </thead>\n",
       "  <tbody>\n",
       "    <tr>\n",
       "      <th>0</th>\n",
       "      <td>-122.323966</td>\n",
       "      <td>47.606374</td>\n",
       "      <td>32800</td>\n",
       "      <td>32800</td>\n",
       "      <td>2128498</td>\n",
       "      <td>Matched</td>\n",
       "      <td>Block</td>\n",
       "      <td>NaN</td>\n",
       "      <td>TERRY AVE BETWEEN JAMES ST AND CHERRY ST</td>\n",
       "      <td>NaN</td>\n",
       "      <td>NaN</td>\n",
       "      <td>1</td>\n",
       "      <td>Property Damage Only Collision</td>\n",
       "      <td>Parked Car</td>\n",
       "      <td>2</td>\n",
       "      <td>0</td>\n",
       "      <td>0</td>\n",
       "      <td>2</td>\n",
       "      <td>0</td>\n",
       "      <td>0</td>\n",
       "      <td>0</td>\n",
       "      <td>2005/12/22 00:00:00+00</td>\n",
       "      <td>2005-12-22 17:13:00</td>\n",
       "      <td>Mid-Block (not related to intersection)</td>\n",
       "      <td>13.0</td>\n",
       "      <td>MOTOR VEHICLE STRUCK MOTOR VEHICLE, LEFT SIDE ...</td>\n",
       "      <td>NaN</td>\n",
       "      <td>0</td>\n",
       "      <td>Raining</td>\n",
       "      <td>Wet</td>\n",
       "      <td>Dark - No Street Lights</td>\n",
       "      <td>NaN</td>\n",
       "      <td>5356027.0</td>\n",
       "      <td>NaN</td>\n",
       "      <td>32</td>\n",
       "      <td>One parked--one moving</td>\n",
       "      <td>0</td>\n",
       "      <td>0</td>\n",
       "      <td>N</td>\n",
       "    </tr>\n",
       "    <tr>\n",
       "      <th>1</th>\n",
       "      <td>-122.329588</td>\n",
       "      <td>47.545337</td>\n",
       "      <td>59200</td>\n",
       "      <td>59200</td>\n",
       "      <td>C679570</td>\n",
       "      <td>Matched</td>\n",
       "      <td>Intersection</td>\n",
       "      <td>34219.0</td>\n",
       "      <td>4TH AVE S AND S MICHIGAN ST</td>\n",
       "      <td>NaN</td>\n",
       "      <td>NaN</td>\n",
       "      <td>1</td>\n",
       "      <td>Property Damage Only Collision</td>\n",
       "      <td>Rear Ended</td>\n",
       "      <td>2</td>\n",
       "      <td>0</td>\n",
       "      <td>0</td>\n",
       "      <td>2</td>\n",
       "      <td>0</td>\n",
       "      <td>0</td>\n",
       "      <td>0</td>\n",
       "      <td>2006/12/30 00:00:00+00</td>\n",
       "      <td>2006-12-30 10:55:00</td>\n",
       "      <td>At Intersection (intersection related)</td>\n",
       "      <td>14.0</td>\n",
       "      <td>MOTOR VEHICLE STRUCK MOTOR VEHICLE, REAR END</td>\n",
       "      <td>NaN</td>\n",
       "      <td>0</td>\n",
       "      <td>Clear</td>\n",
       "      <td>Dry</td>\n",
       "      <td>Daylight</td>\n",
       "      <td>NaN</td>\n",
       "      <td>6364026.0</td>\n",
       "      <td>NaN</td>\n",
       "      <td>13</td>\n",
       "      <td>From same direction - both going straight - bo...</td>\n",
       "      <td>0</td>\n",
       "      <td>0</td>\n",
       "      <td>N</td>\n",
       "    </tr>\n",
       "    <tr>\n",
       "      <th>2</th>\n",
       "      <td>-122.305598</td>\n",
       "      <td>47.612915</td>\n",
       "      <td>47900</td>\n",
       "      <td>47900</td>\n",
       "      <td>1217134</td>\n",
       "      <td>Matched</td>\n",
       "      <td>Block</td>\n",
       "      <td>NaN</td>\n",
       "      <td>E UNION ST BETWEEN 20TH AVE AND 21ST AVE</td>\n",
       "      <td>NaN</td>\n",
       "      <td>NaN</td>\n",
       "      <td>2</td>\n",
       "      <td>Injury Collision</td>\n",
       "      <td>Rear Ended</td>\n",
       "      <td>5</td>\n",
       "      <td>0</td>\n",
       "      <td>0</td>\n",
       "      <td>3</td>\n",
       "      <td>5</td>\n",
       "      <td>0</td>\n",
       "      <td>0</td>\n",
       "      <td>2005/04/30 00:00:00+00</td>\n",
       "      <td>2005-04-30 00:05:00</td>\n",
       "      <td>Mid-Block (but intersection related)</td>\n",
       "      <td>14.0</td>\n",
       "      <td>MOTOR VEHICLE STRUCK MOTOR VEHICLE, REAR END</td>\n",
       "      <td>NaN</td>\n",
       "      <td>0</td>\n",
       "      <td>Raining</td>\n",
       "      <td>Wet</td>\n",
       "      <td>Dark - Street Lights On</td>\n",
       "      <td>NaN</td>\n",
       "      <td>5120009.0</td>\n",
       "      <td>NaN</td>\n",
       "      <td>14</td>\n",
       "      <td>From same direction - both going straight - on...</td>\n",
       "      <td>0</td>\n",
       "      <td>0</td>\n",
       "      <td>N</td>\n",
       "    </tr>\n",
       "  </tbody>\n",
       "</table>\n",
       "</div>"
      ],
      "text/plain": [
       "            x          y  inckey  coldetkey reportno   status      addrtype  \\\n",
       "0 -122.323966  47.606374   32800      32800  2128498  Matched         Block   \n",
       "1 -122.329588  47.545337   59200      59200  C679570  Matched  Intersection   \n",
       "2 -122.305598  47.612915   47900      47900  1217134  Matched         Block   \n",
       "\n",
       "    intkey                                  location exceptrsncode  \\\n",
       "0      NaN  TERRY AVE BETWEEN JAMES ST AND CHERRY ST           NaN   \n",
       "1  34219.0               4TH AVE S AND S MICHIGAN ST           NaN   \n",
       "2      NaN  E UNION ST BETWEEN 20TH AVE AND 21ST AVE           NaN   \n",
       "\n",
       "  exceptrsndesc severitycode                    severitydesc collisiontype  \\\n",
       "0           NaN            1  Property Damage Only Collision    Parked Car   \n",
       "1           NaN            1  Property Damage Only Collision    Rear Ended   \n",
       "2           NaN            2                Injury Collision    Rear Ended   \n",
       "\n",
       "   personcount  pedcount  pedcylcount  vehcount  injuries  seriousinjuries  \\\n",
       "0            2         0            0         2         0                0   \n",
       "1            2         0            0         2         0                0   \n",
       "2            5         0            0         3         5                0   \n",
       "\n",
       "   fatalities                 incdate             incdttm  \\\n",
       "0           0  2005/12/22 00:00:00+00 2005-12-22 17:13:00   \n",
       "1           0  2006/12/30 00:00:00+00 2006-12-30 10:55:00   \n",
       "2           0  2005/04/30 00:00:00+00 2005-04-30 00:05:00   \n",
       "\n",
       "                              junctiontype  sdot_colcode  \\\n",
       "0  Mid-Block (not related to intersection)          13.0   \n",
       "1   At Intersection (intersection related)          14.0   \n",
       "2     Mid-Block (but intersection related)          14.0   \n",
       "\n",
       "                                        sdot_coldesc inattentionind underinfl  \\\n",
       "0  MOTOR VEHICLE STRUCK MOTOR VEHICLE, LEFT SIDE ...            NaN         0   \n",
       "1       MOTOR VEHICLE STRUCK MOTOR VEHICLE, REAR END            NaN         0   \n",
       "2       MOTOR VEHICLE STRUCK MOTOR VEHICLE, REAR END            NaN         0   \n",
       "\n",
       "   weather roadcond                lightcond pedrownotgrnt  sdotcolnum  \\\n",
       "0  Raining      Wet  Dark - No Street Lights           NaN   5356027.0   \n",
       "1    Clear      Dry                 Daylight           NaN   6364026.0   \n",
       "2  Raining      Wet  Dark - Street Lights On           NaN   5120009.0   \n",
       "\n",
       "  speeding st_colcode                                         st_coldesc  \\\n",
       "0      NaN         32                             One parked--one moving   \n",
       "1      NaN         13  From same direction - both going straight - bo...   \n",
       "2      NaN         14  From same direction - both going straight - on...   \n",
       "\n",
       "   seglanekey  crosswalkkey hitparkedcar  \n",
       "0           0             0            N  \n",
       "1           0             0            N  \n",
       "2           0             0            N  "
      ]
     },
     "execution_count": 14,
     "metadata": {},
     "output_type": "execute_result"
    }
   ],
   "source": [
    "# \n",
    "df.drop(columns=[\"objectid\"], inplace=False).head(3)"
   ]
  },
  {
   "cell_type": "markdown",
   "metadata": {},
   "source": [
    "## c. Consider dropping duplicate or unnecessary rows \n",
    "\n",
    "It turns out that no row in this dataset has complete data. So, we would lose the entire dataframe if we dropped any row with missing values. We could take a closer look and decide to drop rows depending on which columns they are missing values in (e.g., even if `X` and `Y` are missing, as long as the `LOCATION` column is not missing, we still know where the accident happened, so it's okay to keep a row that are missing `X` and `Y`). Feel free to try different combinations.  \n",
    "\n",
    "```\n",
    "dup_col_lst = []\n",
    "\n",
    "# make all string column values lowercase for uniform comparison\n",
    "str_cols = list(df.select_dtypes(include=\"object\").columns)\n",
    "for col in str_cols:\n",
    "    df[col] = df[col].str.lower()\n",
    "# print(\"str_cols: {}\\n\\n\".format(str_cols))\n",
    "\n",
    "for col in df.columns:\n",
    "    # if the total number of unique values = total number of rows in df\n",
    "    if df[col].nunique() == df.shape[0]:\n",
    "        print(\"column {} has no duplicate rows\".format(col))\n",
    "    else:\n",
    "        dup_col_lst.append(col)\n",
    "        \n",
    "print(\"\\n {} columns have duplicate values:\\n{}\".format(len(dup_col_lst), dup_col_lst))\n",
    "```  \n",
    "\n",
    "Here, we concentrate on dropping rows based on the distribution of the column data. For example, it might make sense to drop all the 2003 data because there are very few data values from 2003. Keeping the 2003 data may skew the distribution and make our plots less useful.  "
   ]
  },
  {
   "cell_type": "code",
   "execution_count": 15,
   "metadata": {},
   "outputs": [
    {
     "data": {
      "text/html": [
       "<div>\n",
       "<style scoped>\n",
       "    .dataframe tbody tr th:only-of-type {\n",
       "        vertical-align: middle;\n",
       "    }\n",
       "\n",
       "    .dataframe tbody tr th {\n",
       "        vertical-align: top;\n",
       "    }\n",
       "\n",
       "    .dataframe thead th {\n",
       "        text-align: right;\n",
       "    }\n",
       "</style>\n",
       "<table border=\"1\" class=\"dataframe\">\n",
       "  <thead>\n",
       "    <tr style=\"text-align: right;\">\n",
       "      <th></th>\n",
       "      <th>percent_of_all_data</th>\n",
       "    </tr>\n",
       "    <tr>\n",
       "      <th>year</th>\n",
       "      <th></th>\n",
       "    </tr>\n",
       "  </thead>\n",
       "  <tbody>\n",
       "    <tr>\n",
       "      <th>2003</th>\n",
       "      <td>0.000</td>\n",
       "    </tr>\n",
       "    <tr>\n",
       "      <th>2004</th>\n",
       "      <td>7.025</td>\n",
       "    </tr>\n",
       "    <tr>\n",
       "      <th>2005</th>\n",
       "      <td>7.279</td>\n",
       "    </tr>\n",
       "    <tr>\n",
       "      <th>2006</th>\n",
       "      <td>7.178</td>\n",
       "    </tr>\n",
       "    <tr>\n",
       "      <th>2007</th>\n",
       "      <td>6.854</td>\n",
       "    </tr>\n",
       "    <tr>\n",
       "      <th>2008</th>\n",
       "      <td>6.426</td>\n",
       "    </tr>\n",
       "    <tr>\n",
       "      <th>2009</th>\n",
       "      <td>6.033</td>\n",
       "    </tr>\n",
       "    <tr>\n",
       "      <th>2010</th>\n",
       "      <td>5.434</td>\n",
       "    </tr>\n",
       "    <tr>\n",
       "      <th>2011</th>\n",
       "      <td>5.643</td>\n",
       "    </tr>\n",
       "    <tr>\n",
       "      <th>2012</th>\n",
       "      <td>5.786</td>\n",
       "    </tr>\n",
       "    <tr>\n",
       "      <th>2013</th>\n",
       "      <td>5.798</td>\n",
       "    </tr>\n",
       "    <tr>\n",
       "      <th>2014</th>\n",
       "      <td>6.004</td>\n",
       "    </tr>\n",
       "    <tr>\n",
       "      <th>2015</th>\n",
       "      <td>6.481</td>\n",
       "    </tr>\n",
       "    <tr>\n",
       "      <th>2016</th>\n",
       "      <td>6.327</td>\n",
       "    </tr>\n",
       "    <tr>\n",
       "      <th>2017</th>\n",
       "      <td>5.670</td>\n",
       "    </tr>\n",
       "    <tr>\n",
       "      <th>2018</th>\n",
       "      <td>5.543</td>\n",
       "    </tr>\n",
       "    <tr>\n",
       "      <th>2019</th>\n",
       "      <td>5.091</td>\n",
       "    </tr>\n",
       "    <tr>\n",
       "      <th>2020</th>\n",
       "      <td>1.429</td>\n",
       "    </tr>\n",
       "  </tbody>\n",
       "</table>\n",
       "</div>"
      ],
      "text/plain": [
       "      percent_of_all_data\n",
       "year                     \n",
       "2003                0.000\n",
       "2004                7.025\n",
       "2005                7.279\n",
       "2006                7.178\n",
       "2007                6.854\n",
       "2008                6.426\n",
       "2009                6.033\n",
       "2010                5.434\n",
       "2011                5.643\n",
       "2012                5.786\n",
       "2013                5.798\n",
       "2014                6.004\n",
       "2015                6.481\n",
       "2016                6.327\n",
       "2017                5.670\n",
       "2018                5.543\n",
       "2019                5.091\n",
       "2020                1.429"
      ]
     },
     "execution_count": 15,
     "metadata": {},
     "output_type": "execute_result"
    }
   ],
   "source": [
    "# looking at incidents over time to see the annual distribution of the data\n",
    "\n",
    "df[\"incdate\"] = df[\"incdate\"].astype(\"datetime64\")\n",
    "df[\"year\"] = pd.DatetimeIndex(df.incdate).year  # alternate method\n",
    "df[\"month\"] = df[\"incdate\"].map(lambda x: x.strftime('%m'))\n",
    "\n",
    "df_yr = round(100*(df[[\"year\",\n",
    "                       \"objectid\"]].groupby(by=[\"year\"]).count()/len(df)), 3)\n",
    "df_yr = df_yr.rename(columns={\"objectid\": \"percent_of_all_data\"})\n",
    "df_yr"
   ]
  },
  {
   "cell_type": "code",
   "execution_count": 16,
   "metadata": {},
   "outputs": [
    {
     "data": {
      "image/png": "[encoded data removed]",
      "text/plain": [
       "<Figure size 576x360 with 1 Axes>"
      ]
     },
     "metadata": {
      "needs_background": "light"
     },
     "output_type": "display_data"
    }
   ],
   "source": [
    "# bar chart of collisions per year\n",
    "df_yr.plot(kind='bar', figsize=(8, 5));\n",
    "plt.title(\"Collisions by Year\");\n",
    "plt.xticks(rotation=45, ha='right', size=14);\n",
    "plt.yticks(size=14);\n",
    "plt.grid(True);\n",
    "plt.show();"
   ]
  },
  {
   "cell_type": "markdown",
   "metadata": {},
   "source": [
    "Based on the above plot, there's good reason to remove the data from both 2003 and 2020. However, we're only going to remove the 2003 data at this point:"
   ]
  },
  {
   "cell_type": "code",
   "execution_count": 17,
   "metadata": {},
   "outputs": [
    {
     "name": "stdout",
     "output_type": "stream",
     "text": [
      "df shape with year and month columns, but without the 2003 data: (220042, 42)\n"
     ]
    }
   ],
   "source": [
    "# remove 2003 data\n",
    "df = df[df[\"year\"] != 2003]\n",
    "print(\"df shape with year and month columns, but without the 2003 data: {}\".format(df.shape))"
   ]
  },
  {
   "cell_type": "markdown",
   "metadata": {},
   "source": [
    "## d. Consider changing variable data types\n",
    "\n",
    "Think about how you plan to use the variable before you change its data type. Pandas data types include: \"bool\", \"float64\", \"int\", \"object\", \"category\", and etc. Because we did not assign variable types to columns, all our columns   \n",
    "\n",
    "In Pandas, `categorical variables` require less memory, so (if appropriate) it can be very useful to change numeric or string (aka `object`) variables to categorical variables. However, there are additional considerations. For example, a column with null (`NaN`) values cannot be converted into a categorical variable. Also, categorical variables cannot be summed like numerical variables, so running univariate statistics on categorical variables requires an additional step.   \n",
    "\n",
    "__TO DO: THINK ABOUT SHOWING AN EXAMPLE OF DTYPE LIMITATIONS__  "
   ]
  },
  {
   "cell_type": "code",
   "execution_count": 18,
   "metadata": {},
   "outputs": [
    {
     "data": {
      "text/html": [
       "<div>\n",
       "<style scoped>\n",
       "    .dataframe tbody tr th:only-of-type {\n",
       "        vertical-align: middle;\n",
       "    }\n",
       "\n",
       "    .dataframe tbody tr th {\n",
       "        vertical-align: top;\n",
       "    }\n",
       "\n",
       "    .dataframe thead th {\n",
       "        text-align: right;\n",
       "    }\n",
       "</style>\n",
       "<table border=\"1\" class=\"dataframe\">\n",
       "  <thead>\n",
       "    <tr style=\"text-align: right;\">\n",
       "      <th></th>\n",
       "      <th>x</th>\n",
       "      <th>y</th>\n",
       "      <th>reportno</th>\n",
       "      <th>status</th>\n",
       "      <th>addrtype</th>\n",
       "      <th>intkey</th>\n",
       "      <th>location</th>\n",
       "      <th>exceptrsncode</th>\n",
       "      <th>exceptrsndesc</th>\n",
       "      <th>severitycode</th>\n",
       "      <th>severitydesc</th>\n",
       "      <th>collisiontype</th>\n",
       "      <th>incdate</th>\n",
       "      <th>incdttm</th>\n",
       "      <th>junctiontype</th>\n",
       "      <th>sdot_colcode</th>\n",
       "      <th>sdot_coldesc</th>\n",
       "      <th>inattentionind</th>\n",
       "      <th>underinfl</th>\n",
       "      <th>weather</th>\n",
       "      <th>roadcond</th>\n",
       "      <th>lightcond</th>\n",
       "      <th>pedrownotgrnt</th>\n",
       "      <th>sdotcolnum</th>\n",
       "      <th>speeding</th>\n",
       "      <th>st_colcode</th>\n",
       "      <th>st_coldesc</th>\n",
       "      <th>hitparkedcar</th>\n",
       "      <th>month</th>\n",
       "    </tr>\n",
       "  </thead>\n",
       "  <tbody>\n",
       "    <tr>\n",
       "      <th>0</th>\n",
       "      <td>-122.323966</td>\n",
       "      <td>47.606374</td>\n",
       "      <td>2128498</td>\n",
       "      <td>Matched</td>\n",
       "      <td>Block</td>\n",
       "      <td>NaN</td>\n",
       "      <td>TERRY AVE BETWEEN JAMES ST AND CHERRY ST</td>\n",
       "      <td>NaN</td>\n",
       "      <td>NaN</td>\n",
       "      <td>1</td>\n",
       "      <td>Property Damage Only Collision</td>\n",
       "      <td>Parked Car</td>\n",
       "      <td>2005-12-22</td>\n",
       "      <td>2005-12-22 17:13:00</td>\n",
       "      <td>Mid-Block (not related to intersection)</td>\n",
       "      <td>13.0</td>\n",
       "      <td>MOTOR VEHICLE STRUCK MOTOR VEHICLE, LEFT SIDE ...</td>\n",
       "      <td>NaN</td>\n",
       "      <td>0</td>\n",
       "      <td>Raining</td>\n",
       "      <td>Wet</td>\n",
       "      <td>Dark - No Street Lights</td>\n",
       "      <td>NaN</td>\n",
       "      <td>5356027.0</td>\n",
       "      <td>NaN</td>\n",
       "      <td>32</td>\n",
       "      <td>One parked--one moving</td>\n",
       "      <td>N</td>\n",
       "      <td>12</td>\n",
       "    </tr>\n",
       "    <tr>\n",
       "      <th>1</th>\n",
       "      <td>-122.329588</td>\n",
       "      <td>47.545337</td>\n",
       "      <td>C679570</td>\n",
       "      <td>Matched</td>\n",
       "      <td>Intersection</td>\n",
       "      <td>34219.0</td>\n",
       "      <td>4TH AVE S AND S MICHIGAN ST</td>\n",
       "      <td>NaN</td>\n",
       "      <td>NaN</td>\n",
       "      <td>1</td>\n",
       "      <td>Property Damage Only Collision</td>\n",
       "      <td>Rear Ended</td>\n",
       "      <td>2006-12-30</td>\n",
       "      <td>2006-12-30 10:55:00</td>\n",
       "      <td>At Intersection (intersection related)</td>\n",
       "      <td>14.0</td>\n",
       "      <td>MOTOR VEHICLE STRUCK MOTOR VEHICLE, REAR END</td>\n",
       "      <td>NaN</td>\n",
       "      <td>0</td>\n",
       "      <td>Clear</td>\n",
       "      <td>Dry</td>\n",
       "      <td>Daylight</td>\n",
       "      <td>NaN</td>\n",
       "      <td>6364026.0</td>\n",
       "      <td>NaN</td>\n",
       "      <td>13</td>\n",
       "      <td>From same direction - both going straight - bo...</td>\n",
       "      <td>N</td>\n",
       "      <td>12</td>\n",
       "    </tr>\n",
       "    <tr>\n",
       "      <th>2</th>\n",
       "      <td>-122.305598</td>\n",
       "      <td>47.612915</td>\n",
       "      <td>1217134</td>\n",
       "      <td>Matched</td>\n",
       "      <td>Block</td>\n",
       "      <td>NaN</td>\n",
       "      <td>E UNION ST BETWEEN 20TH AVE AND 21ST AVE</td>\n",
       "      <td>NaN</td>\n",
       "      <td>NaN</td>\n",
       "      <td>2</td>\n",
       "      <td>Injury Collision</td>\n",
       "      <td>Rear Ended</td>\n",
       "      <td>2005-04-30</td>\n",
       "      <td>2005-04-30 00:05:00</td>\n",
       "      <td>Mid-Block (but intersection related)</td>\n",
       "      <td>14.0</td>\n",
       "      <td>MOTOR VEHICLE STRUCK MOTOR VEHICLE, REAR END</td>\n",
       "      <td>NaN</td>\n",
       "      <td>0</td>\n",
       "      <td>Raining</td>\n",
       "      <td>Wet</td>\n",
       "      <td>Dark - Street Lights On</td>\n",
       "      <td>NaN</td>\n",
       "      <td>5120009.0</td>\n",
       "      <td>NaN</td>\n",
       "      <td>14</td>\n",
       "      <td>From same direction - both going straight - on...</td>\n",
       "      <td>N</td>\n",
       "      <td>04</td>\n",
       "    </tr>\n",
       "  </tbody>\n",
       "</table>\n",
       "</div>"
      ],
      "text/plain": [
       "            x          y reportno   status      addrtype   intkey  \\\n",
       "0 -122.323966  47.606374  2128498  Matched         Block      NaN   \n",
       "1 -122.329588  47.545337  C679570  Matched  Intersection  34219.0   \n",
       "2 -122.305598  47.612915  1217134  Matched         Block      NaN   \n",
       "\n",
       "                                   location exceptrsncode exceptrsndesc  \\\n",
       "0  TERRY AVE BETWEEN JAMES ST AND CHERRY ST           NaN           NaN   \n",
       "1               4TH AVE S AND S MICHIGAN ST           NaN           NaN   \n",
       "2  E UNION ST BETWEEN 20TH AVE AND 21ST AVE           NaN           NaN   \n",
       "\n",
       "  severitycode                    severitydesc collisiontype    incdate  \\\n",
       "0            1  Property Damage Only Collision    Parked Car 2005-12-22   \n",
       "1            1  Property Damage Only Collision    Rear Ended 2006-12-30   \n",
       "2            2                Injury Collision    Rear Ended 2005-04-30   \n",
       "\n",
       "              incdttm                             junctiontype  sdot_colcode  \\\n",
       "0 2005-12-22 17:13:00  Mid-Block (not related to intersection)          13.0   \n",
       "1 2006-12-30 10:55:00   At Intersection (intersection related)          14.0   \n",
       "2 2005-04-30 00:05:00     Mid-Block (but intersection related)          14.0   \n",
       "\n",
       "                                        sdot_coldesc inattentionind underinfl  \\\n",
       "0  MOTOR VEHICLE STRUCK MOTOR VEHICLE, LEFT SIDE ...            NaN         0   \n",
       "1       MOTOR VEHICLE STRUCK MOTOR VEHICLE, REAR END            NaN         0   \n",
       "2       MOTOR VEHICLE STRUCK MOTOR VEHICLE, REAR END            NaN         0   \n",
       "\n",
       "   weather roadcond                lightcond pedrownotgrnt  sdotcolnum  \\\n",
       "0  Raining      Wet  Dark - No Street Lights           NaN   5356027.0   \n",
       "1    Clear      Dry                 Daylight           NaN   6364026.0   \n",
       "2  Raining      Wet  Dark - Street Lights On           NaN   5120009.0   \n",
       "\n",
       "  speeding st_colcode                                         st_coldesc  \\\n",
       "0      NaN         32                             One parked--one moving   \n",
       "1      NaN         13  From same direction - both going straight - bo...   \n",
       "2      NaN         14  From same direction - both going straight - on...   \n",
       "\n",
       "  hitparkedcar month  \n",
       "0            N    12  \n",
       "1            N    12  \n",
       "2            N    04  "
      ]
     },
     "execution_count": 18,
     "metadata": {},
     "output_type": "execute_result"
    }
   ],
   "source": [
    "# Example - one way to filter the original variable data types\n",
    "\n",
    "df.select_dtypes(exclude=[\"int\"]).head(3)"
   ]
  },
  {
   "cell_type": "code",
   "execution_count": 19,
   "metadata": {},
   "outputs": [
    {
     "data": {
      "text/plain": [
       "90968    1007024.0\n",
       "2222     3021048.0\n",
       "705      3137016.0\n",
       "452      3239035.0\n",
       "8854     4001001.0\n",
       "8106     4001002.0\n",
       "8928     4001003.0\n",
       "2847     4001004.0\n",
       "1784     4001005.0\n",
       "12118    4001006.0\n",
       "15693    4001007.0\n",
       "9364     4001008.0\n",
       "10269    4001009.0\n",
       "5824     4001010.0\n",
       "10789    4001011.0\n",
       "5288     4001012.0\n",
       "14663    4001013.0\n",
       "4233     4001014.0\n",
       "10204    4001015.0\n",
       "7425     4001016.0\n",
       "15413    4001017.0\n",
       "4546     4001018.0\n",
       "10133    4001019.0\n",
       "3513     4001020.0\n",
       "1496     4001021.0\n",
       "15932    4001022.0\n",
       "8246     4001023.0\n",
       "6829     4001024.0\n",
       "16558    4001025.0\n",
       "8160     4001026.0\n",
       "dtype: float64"
      ]
     },
     "execution_count": 19,
     "metadata": {},
     "output_type": "execute_result"
    }
   ],
   "source": [
    "# Example - to check to see if the column is really a float or should be an int\n",
    "pd.Series(df[\"sdotcolnum\"].unique()).sort_values(ascending=True)[0:30]"
   ]
  },
  {
   "cell_type": "code",
   "execution_count": 20,
   "metadata": {},
   "outputs": [
    {
     "data": {
      "text/html": [
       "<div>\n",
       "<style scoped>\n",
       "    .dataframe tbody tr th:only-of-type {\n",
       "        vertical-align: middle;\n",
       "    }\n",
       "\n",
       "    .dataframe tbody tr th {\n",
       "        vertical-align: top;\n",
       "    }\n",
       "\n",
       "    .dataframe thead th {\n",
       "        text-align: right;\n",
       "    }\n",
       "</style>\n",
       "<table border=\"1\" class=\"dataframe\">\n",
       "  <thead>\n",
       "    <tr style=\"text-align: right;\">\n",
       "      <th></th>\n",
       "      <th>original_data_type</th>\n",
       "      <th>new_data_type</th>\n",
       "    </tr>\n",
       "  </thead>\n",
       "  <tbody>\n",
       "    <tr>\n",
       "      <th>x</th>\n",
       "      <td>float64</td>\n",
       "      <td>float64</td>\n",
       "    </tr>\n",
       "    <tr>\n",
       "      <th>y</th>\n",
       "      <td>float64</td>\n",
       "      <td>float64</td>\n",
       "    </tr>\n",
       "    <tr>\n",
       "      <th>objectid</th>\n",
       "      <td>int64</td>\n",
       "      <td>int64</td>\n",
       "    </tr>\n",
       "    <tr>\n",
       "      <th>inckey</th>\n",
       "      <td>int64</td>\n",
       "      <td>int64</td>\n",
       "    </tr>\n",
       "    <tr>\n",
       "      <th>coldetkey</th>\n",
       "      <td>int64</td>\n",
       "      <td>int64</td>\n",
       "    </tr>\n",
       "    <tr>\n",
       "      <th>reportno</th>\n",
       "      <td>object</td>\n",
       "      <td>object</td>\n",
       "    </tr>\n",
       "    <tr>\n",
       "      <th>status</th>\n",
       "      <td>object</td>\n",
       "      <td>category</td>\n",
       "    </tr>\n",
       "    <tr>\n",
       "      <th>addrtype</th>\n",
       "      <td>object</td>\n",
       "      <td>category</td>\n",
       "    </tr>\n",
       "    <tr>\n",
       "      <th>intkey</th>\n",
       "      <td>float64</td>\n",
       "      <td>float64</td>\n",
       "    </tr>\n",
       "    <tr>\n",
       "      <th>location</th>\n",
       "      <td>object</td>\n",
       "      <td>object</td>\n",
       "    </tr>\n",
       "    <tr>\n",
       "      <th>exceptrsncode</th>\n",
       "      <td>object</td>\n",
       "      <td>object</td>\n",
       "    </tr>\n",
       "    <tr>\n",
       "      <th>exceptrsndesc</th>\n",
       "      <td>object</td>\n",
       "      <td>object</td>\n",
       "    </tr>\n",
       "    <tr>\n",
       "      <th>severitycode</th>\n",
       "      <td>object</td>\n",
       "      <td>category</td>\n",
       "    </tr>\n",
       "    <tr>\n",
       "      <th>severitydesc</th>\n",
       "      <td>object</td>\n",
       "      <td>object</td>\n",
       "    </tr>\n",
       "    <tr>\n",
       "      <th>collisiontype</th>\n",
       "      <td>object</td>\n",
       "      <td>object</td>\n",
       "    </tr>\n",
       "    <tr>\n",
       "      <th>personcount</th>\n",
       "      <td>int64</td>\n",
       "      <td>int64</td>\n",
       "    </tr>\n",
       "    <tr>\n",
       "      <th>pedcount</th>\n",
       "      <td>int64</td>\n",
       "      <td>int64</td>\n",
       "    </tr>\n",
       "    <tr>\n",
       "      <th>pedcylcount</th>\n",
       "      <td>int64</td>\n",
       "      <td>int64</td>\n",
       "    </tr>\n",
       "    <tr>\n",
       "      <th>vehcount</th>\n",
       "      <td>int64</td>\n",
       "      <td>int64</td>\n",
       "    </tr>\n",
       "    <tr>\n",
       "      <th>injuries</th>\n",
       "      <td>int64</td>\n",
       "      <td>int64</td>\n",
       "    </tr>\n",
       "    <tr>\n",
       "      <th>seriousinjuries</th>\n",
       "      <td>int64</td>\n",
       "      <td>int64</td>\n",
       "    </tr>\n",
       "    <tr>\n",
       "      <th>fatalities</th>\n",
       "      <td>int64</td>\n",
       "      <td>int64</td>\n",
       "    </tr>\n",
       "    <tr>\n",
       "      <th>incdate</th>\n",
       "      <td>datetime64[ns]</td>\n",
       "      <td>datetime64[ns]</td>\n",
       "    </tr>\n",
       "    <tr>\n",
       "      <th>incdttm</th>\n",
       "      <td>datetime64[ns]</td>\n",
       "      <td>datetime64[ns]</td>\n",
       "    </tr>\n",
       "    <tr>\n",
       "      <th>junctiontype</th>\n",
       "      <td>object</td>\n",
       "      <td>object</td>\n",
       "    </tr>\n",
       "    <tr>\n",
       "      <th>sdot_colcode</th>\n",
       "      <td>float64</td>\n",
       "      <td>int64</td>\n",
       "    </tr>\n",
       "    <tr>\n",
       "      <th>sdot_coldesc</th>\n",
       "      <td>object</td>\n",
       "      <td>object</td>\n",
       "    </tr>\n",
       "    <tr>\n",
       "      <th>inattentionind</th>\n",
       "      <td>object</td>\n",
       "      <td>object</td>\n",
       "    </tr>\n",
       "    <tr>\n",
       "      <th>underinfl</th>\n",
       "      <td>object</td>\n",
       "      <td>object</td>\n",
       "    </tr>\n",
       "    <tr>\n",
       "      <th>weather</th>\n",
       "      <td>object</td>\n",
       "      <td>object</td>\n",
       "    </tr>\n",
       "    <tr>\n",
       "      <th>roadcond</th>\n",
       "      <td>object</td>\n",
       "      <td>object</td>\n",
       "    </tr>\n",
       "    <tr>\n",
       "      <th>lightcond</th>\n",
       "      <td>object</td>\n",
       "      <td>object</td>\n",
       "    </tr>\n",
       "    <tr>\n",
       "      <th>pedrownotgrnt</th>\n",
       "      <td>object</td>\n",
       "      <td>object</td>\n",
       "    </tr>\n",
       "    <tr>\n",
       "      <th>sdotcolnum</th>\n",
       "      <td>float64</td>\n",
       "      <td>int64</td>\n",
       "    </tr>\n",
       "    <tr>\n",
       "      <th>speeding</th>\n",
       "      <td>object</td>\n",
       "      <td>object</td>\n",
       "    </tr>\n",
       "    <tr>\n",
       "      <th>st_colcode</th>\n",
       "      <td>object</td>\n",
       "      <td>object</td>\n",
       "    </tr>\n",
       "    <tr>\n",
       "      <th>st_coldesc</th>\n",
       "      <td>object</td>\n",
       "      <td>object</td>\n",
       "    </tr>\n",
       "    <tr>\n",
       "      <th>seglanekey</th>\n",
       "      <td>int64</td>\n",
       "      <td>int64</td>\n",
       "    </tr>\n",
       "    <tr>\n",
       "      <th>crosswalkkey</th>\n",
       "      <td>int64</td>\n",
       "      <td>int64</td>\n",
       "    </tr>\n",
       "    <tr>\n",
       "      <th>hitparkedcar</th>\n",
       "      <td>object</td>\n",
       "      <td>object</td>\n",
       "    </tr>\n",
       "    <tr>\n",
       "      <th>year</th>\n",
       "      <td>int64</td>\n",
       "      <td>int64</td>\n",
       "    </tr>\n",
       "    <tr>\n",
       "      <th>month</th>\n",
       "      <td>object</td>\n",
       "      <td>object</td>\n",
       "    </tr>\n",
       "  </tbody>\n",
       "</table>\n",
       "</div>"
      ],
      "text/plain": [
       "                original_data_type   new_data_type\n",
       "x                          float64         float64\n",
       "y                          float64         float64\n",
       "objectid                     int64           int64\n",
       "inckey                       int64           int64\n",
       "coldetkey                    int64           int64\n",
       "reportno                    object          object\n",
       "status                      object        category\n",
       "addrtype                    object        category\n",
       "intkey                     float64         float64\n",
       "location                    object          object\n",
       "exceptrsncode               object          object\n",
       "exceptrsndesc               object          object\n",
       "severitycode                object        category\n",
       "severitydesc                object          object\n",
       "collisiontype               object          object\n",
       "personcount                  int64           int64\n",
       "pedcount                     int64           int64\n",
       "pedcylcount                  int64           int64\n",
       "vehcount                     int64           int64\n",
       "injuries                     int64           int64\n",
       "seriousinjuries              int64           int64\n",
       "fatalities                   int64           int64\n",
       "incdate             datetime64[ns]  datetime64[ns]\n",
       "incdttm             datetime64[ns]  datetime64[ns]\n",
       "junctiontype                object          object\n",
       "sdot_colcode               float64           int64\n",
       "sdot_coldesc                object          object\n",
       "inattentionind              object          object\n",
       "underinfl                   object          object\n",
       "weather                     object          object\n",
       "roadcond                    object          object\n",
       "lightcond                   object          object\n",
       "pedrownotgrnt               object          object\n",
       "sdotcolnum                 float64           int64\n",
       "speeding                    object          object\n",
       "st_colcode                  object          object\n",
       "st_coldesc                  object          object\n",
       "seglanekey                   int64           int64\n",
       "crosswalkkey                 int64           int64\n",
       "hitparkedcar                object          object\n",
       "year                         int64           int64\n",
       "month                       object          object"
      ]
     },
     "metadata": {},
     "output_type": "display_data"
    }
   ],
   "source": [
    "# example - one way to clean up column data types\n",
    "\n",
    "######## add variables ##########\n",
    "\n",
    "dtypes_orig = df.dtypes\n",
    "\n",
    "df_ = df.copy() \n",
    "\n",
    "for col in df_.columns:\n",
    "    if col.lower() in [\"status\", \"addrtype\", \"severitycode\"]:\n",
    "        # change to categorical data type\n",
    "        df_.fillna({col: \"none\"}, inplace=True)\n",
    "        df_[col] = pd.Series([str(word).lower() for word in df[col]])\n",
    "        df_[col] = df[col].astype(\"category\")\n",
    "    elif col.lower() in [\"sdot_colcode\", \"sdotcolnum\"]:\n",
    "        df_[col] = df[col].fillna(0).astype(int)\n",
    "    elif col.lower() in [\"x\", \"y\"]:\n",
    "        df_[col] = df[col].astype(\"float\")\n",
    "    elif col.lower() in [\"incdttm\"]:\n",
    "        df_[col] = pd.to_datetime(arg=df[col])\n",
    "    else:\n",
    "        continue\n",
    "        \n",
    "dtypes_new = df_.dtypes\n",
    "display(pd.DataFrame({\"original_data_type\": dtypes_orig,\n",
    "                      \"new_data_type\": dtypes_new}))"
   ]
  },
  {
   "cell_type": "markdown",
   "metadata": {},
   "source": [
    "## 8. Understand individual columns\n",
    "\n",
    "In this section, we will examine some of the columns by answering questions that align with the three of the goals mentioned above.\n",
    "\n",
    "- Goal 1: Identify dangerous locations\n",
    "- Goal 2: Identify predictors of accidents \n",
    "- Goal 3: examine increase or decrease in number of accidents over time"
   ]
  },
  {
   "cell_type": "markdown",
   "metadata": {},
   "source": [
    "## Goal 1: Which locations are dangerous?"
   ]
  },
  {
   "cell_type": "markdown",
   "metadata": {},
   "source": [
    "### Q1. How do we decide that a location is dangerous?"
   ]
  },
  {
   "cell_type": "markdown",
   "metadata": {},
   "source": [
    "We could define dangerousness by:\n",
    "- Severity of accidents\n",
    "- Number of accidents"
   ]
  },
  {
   "cell_type": "markdown",
   "metadata": {},
   "source": [
    "Let's take a look at the outcome columns to understand what these accidents look like."
   ]
  },
  {
   "cell_type": "code",
   "execution_count": 21,
   "metadata": {},
   "outputs": [],
   "source": [
    "num_columns = [\n",
    "    'personcount',\n",
    "    'pedcount',\n",
    "    'pedcylcount',\n",
    "    'vehcount',\n",
    "    'injuries',\n",
    "    'seriousinjuries',\n",
    "    'fatalities']"
   ]
  },
  {
   "cell_type": "code",
   "execution_count": 22,
   "metadata": {},
   "outputs": [
    {
     "data": {
      "text/html": [
       "<div>\n",
       "<style scoped>\n",
       "    .dataframe tbody tr th:only-of-type {\n",
       "        vertical-align: middle;\n",
       "    }\n",
       "\n",
       "    .dataframe tbody tr th {\n",
       "        vertical-align: top;\n",
       "    }\n",
       "\n",
       "    .dataframe thead th {\n",
       "        text-align: right;\n",
       "    }\n",
       "</style>\n",
       "<table border=\"1\" class=\"dataframe\">\n",
       "  <thead>\n",
       "    <tr style=\"text-align: right;\">\n",
       "      <th></th>\n",
       "      <th>personcount</th>\n",
       "      <th>pedcount</th>\n",
       "      <th>pedcylcount</th>\n",
       "      <th>vehcount</th>\n",
       "      <th>injuries</th>\n",
       "      <th>seriousinjuries</th>\n",
       "      <th>fatalities</th>\n",
       "    </tr>\n",
       "  </thead>\n",
       "  <tbody>\n",
       "    <tr>\n",
       "      <th>count</th>\n",
       "      <td>220042.000</td>\n",
       "      <td>220042.000</td>\n",
       "      <td>220042.000</td>\n",
       "      <td>220042.000</td>\n",
       "      <td>220042.000</td>\n",
       "      <td>220042.000</td>\n",
       "      <td>220042.000</td>\n",
       "    </tr>\n",
       "    <tr>\n",
       "      <th>mean</th>\n",
       "      <td>2.227</td>\n",
       "      <td>0.038</td>\n",
       "      <td>0.027</td>\n",
       "      <td>1.729</td>\n",
       "      <td>0.374</td>\n",
       "      <td>0.015</td>\n",
       "      <td>0.002</td>\n",
       "    </tr>\n",
       "    <tr>\n",
       "      <th>std</th>\n",
       "      <td>1.472</td>\n",
       "      <td>0.202</td>\n",
       "      <td>0.164</td>\n",
       "      <td>0.830</td>\n",
       "      <td>0.732</td>\n",
       "      <td>0.158</td>\n",
       "      <td>0.045</td>\n",
       "    </tr>\n",
       "    <tr>\n",
       "      <th>min</th>\n",
       "      <td>0.000</td>\n",
       "      <td>0.000</td>\n",
       "      <td>0.000</td>\n",
       "      <td>0.000</td>\n",
       "      <td>0.000</td>\n",
       "      <td>0.000</td>\n",
       "      <td>0.000</td>\n",
       "    </tr>\n",
       "    <tr>\n",
       "      <th>25%</th>\n",
       "      <td>2.000</td>\n",
       "      <td>0.000</td>\n",
       "      <td>0.000</td>\n",
       "      <td>2.000</td>\n",
       "      <td>0.000</td>\n",
       "      <td>0.000</td>\n",
       "      <td>0.000</td>\n",
       "    </tr>\n",
       "    <tr>\n",
       "      <th>50%</th>\n",
       "      <td>2.000</td>\n",
       "      <td>0.000</td>\n",
       "      <td>0.000</td>\n",
       "      <td>2.000</td>\n",
       "      <td>0.000</td>\n",
       "      <td>0.000</td>\n",
       "      <td>0.000</td>\n",
       "    </tr>\n",
       "    <tr>\n",
       "      <th>75%</th>\n",
       "      <td>3.000</td>\n",
       "      <td>0.000</td>\n",
       "      <td>0.000</td>\n",
       "      <td>2.000</td>\n",
       "      <td>1.000</td>\n",
       "      <td>0.000</td>\n",
       "      <td>0.000</td>\n",
       "    </tr>\n",
       "    <tr>\n",
       "      <th>max</th>\n",
       "      <td>93.000</td>\n",
       "      <td>6.000</td>\n",
       "      <td>2.000</td>\n",
       "      <td>15.000</td>\n",
       "      <td>78.000</td>\n",
       "      <td>41.000</td>\n",
       "      <td>5.000</td>\n",
       "    </tr>\n",
       "  </tbody>\n",
       "</table>\n",
       "</div>"
      ],
      "text/plain": [
       "       personcount    pedcount  pedcylcount    vehcount    injuries  \\\n",
       "count   220042.000  220042.000   220042.000  220042.000  220042.000   \n",
       "mean         2.227       0.038        0.027       1.729       0.374   \n",
       "std          1.472       0.202        0.164       0.830       0.732   \n",
       "min          0.000       0.000        0.000       0.000       0.000   \n",
       "25%          2.000       0.000        0.000       2.000       0.000   \n",
       "50%          2.000       0.000        0.000       2.000       0.000   \n",
       "75%          3.000       0.000        0.000       2.000       1.000   \n",
       "max         93.000       6.000        2.000      15.000      78.000   \n",
       "\n",
       "       seriousinjuries  fatalities  \n",
       "count       220042.000  220042.000  \n",
       "mean             0.015       0.002  \n",
       "std              0.158       0.045  \n",
       "min              0.000       0.000  \n",
       "25%              0.000       0.000  \n",
       "50%              0.000       0.000  \n",
       "75%              0.000       0.000  \n",
       "max             41.000       5.000  "
      ]
     },
     "execution_count": 22,
     "metadata": {},
     "output_type": "execute_result"
    }
   ],
   "source": [
    "np.round(df[num_columns].describe(), 3)"
   ]
  },
  {
   "cell_type": "markdown",
   "metadata": {},
   "source": [
    "- There is no missing values for these columns\n",
    "- There isn't a lot of variability in the values for these columns\n",
    "- There seem to be some outliers (e.g., `personcount`, `injuries`)\n",
    "- For a quick review of outliers, https://en.wikipedia.org/wiki/Outlier"
   ]
  },
  {
   "cell_type": "markdown",
   "metadata": {},
   "source": [
    "Let's take a look at these columns with some visualization, starting with the first column `personcount`."
   ]
  },
  {
   "cell_type": "code",
   "execution_count": 23,
   "metadata": {},
   "outputs": [
    {
     "data": {
      "text/html": [
       "<div>\n",
       "<style scoped>\n",
       "    .dataframe tbody tr th:only-of-type {\n",
       "        vertical-align: middle;\n",
       "    }\n",
       "\n",
       "    .dataframe tbody tr th {\n",
       "        vertical-align: top;\n",
       "    }\n",
       "\n",
       "    .dataframe thead th {\n",
       "        text-align: right;\n",
       "    }\n",
       "</style>\n",
       "<table border=\"1\" class=\"dataframe\">\n",
       "  <thead>\n",
       "    <tr style=\"text-align: right;\">\n",
       "      <th></th>\n",
       "      <th>count</th>\n",
       "    </tr>\n",
       "  </thead>\n",
       "  <tbody>\n",
       "    <tr>\n",
       "      <th>2</th>\n",
       "      <td>118223</td>\n",
       "    </tr>\n",
       "    <tr>\n",
       "      <th>3</th>\n",
       "      <td>36321</td>\n",
       "    </tr>\n",
       "    <tr>\n",
       "      <th>0</th>\n",
       "      <td>24902</td>\n",
       "    </tr>\n",
       "    <tr>\n",
       "      <th>4</th>\n",
       "      <td>14938</td>\n",
       "    </tr>\n",
       "    <tr>\n",
       "      <th>1</th>\n",
       "      <td>13810</td>\n",
       "    </tr>\n",
       "  </tbody>\n",
       "</table>\n",
       "</div>"
      ],
      "text/plain": [
       "    count\n",
       "2  118223\n",
       "3   36321\n",
       "0   24902\n",
       "4   14938\n",
       "1   13810"
      ]
     },
     "execution_count": 23,
     "metadata": {},
     "output_type": "execute_result"
    }
   ],
   "source": [
    "# Count the number of cases per number of persons involved in the accident\n",
    "personcountdf = df['personcount'].value_counts().to_frame('count')\n",
    "personcountdf.head()"
   ]
  },
  {
   "cell_type": "code",
   "execution_count": 24,
   "metadata": {},
   "outputs": [
    {
     "data": {
      "text/plain": [
       "<matplotlib.axes._subplots.AxesSubplot at 0x12710a6d0>"
      ]
     },
     "execution_count": 24,
     "metadata": {},
     "output_type": "execute_result"
    },
    {
     "data": {
      "image/png": "[encoded data removed]",
      "text/plain": [
       "<Figure size 432x288 with 1 Axes>"
      ]
     },
     "metadata": {
      "needs_background": "light"
     },
     "output_type": "display_data"
    }
   ],
   "source": [
    "# Take a look at the distribution using a bar graph\n",
    "\n",
    "personcountdf.plot.bar()\n",
    "plt.show()"
   ]
  },
  {
   "cell_type": "code",
   "execution_count": 25,
   "metadata": {},
   "outputs": [
    {
     "data": {
      "text/plain": [
       "{'whiskers': [<matplotlib.lines.Line2D at 0x1274e54d0>,\n",
       "  <matplotlib.lines.Line2D at 0x1274b2dd0>],\n",
       " 'caps': [<matplotlib.lines.Line2D at 0x1274bbad0>,\n",
       "  <matplotlib.lines.Line2D at 0x1274bb350>],\n",
       " 'boxes': [<matplotlib.lines.Line2D at 0x1274b2ad0>],\n",
       " 'medians': [<matplotlib.lines.Line2D at 0x1274c35d0>],\n",
       " 'fliers': [<matplotlib.lines.Line2D at 0x1274c3b10>],\n",
       " 'means': []}"
      ]
     },
     "execution_count": 25,
     "metadata": {},
     "output_type": "execute_result"
    },
    {
     "data": {
      "image/png": "[encoded data removed]",
      "text/plain": [
       "<Figure size 432x288 with 1 Axes>"
      ]
     },
     "metadata": {
      "needs_background": "light"
     },
     "output_type": "display_data"
    }
   ],
   "source": [
    "# Take a look at the distribution using a box plot\n",
    "\n",
    "plt.boxplot(personcountdf['count'])\n",
    "plt.show()"
   ]
  },
  {
   "cell_type": "markdown",
   "metadata": {},
   "source": [
    "Let's combine these three steps in a for loop so that we can create a bar chart and box plot for each of the numeric columns side by side."
   ]
  },
  {
   "cell_type": "code",
   "execution_count": 26,
   "metadata": {},
   "outputs": [
    {
     "data": {
      "image/png": "[encoded data removed]",
      "text/plain": [
       "<Figure size 864x288 with 2 Axes>"
      ]
     },
     "metadata": {
      "needs_background": "light"
     },
     "output_type": "display_data"
    },
    {
     "data": {
      "image/png": "[encoded data removed]",
      "text/plain": [
       "<Figure size 864x288 with 2 Axes>"
      ]
     },
     "metadata": {
      "needs_background": "light"
     },
     "output_type": "display_data"
    },
    {
     "data": {
      "image/png": "[encoded data removed]",
      "text/plain": [
       "<Figure size 864x288 with 2 Axes>"
      ]
     },
     "metadata": {
      "needs_background": "light"
     },
     "output_type": "display_data"
    },
    {
     "data": {
      "image/png": "[encoded data removed]",
      "text/plain": [
       "<Figure size 864x288 with 2 Axes>"
      ]
     },
     "metadata": {
      "needs_background": "light"
     },
     "output_type": "display_data"
    },
    {
     "data": {
      "image/png": "[encoded data removed]",
      "text/plain": [
       "<Figure size 864x288 with 2 Axes>"
      ]
     },
     "metadata": {
      "needs_background": "light"
     },
     "output_type": "display_data"
    },
    {
     "data": {
      "image/png": "[encoded data removed]",
      "text/plain": [
       "<Figure size 864x288 with 2 Axes>"
      ]
     },
     "metadata": {
      "needs_background": "light"
     },
     "output_type": "display_data"
    },
    {
     "data": {
      "image/png": "[encoded data removed]",
      "text/plain": [
       "<Figure size 864x288 with 2 Axes>"
      ]
     },
     "metadata": {
      "needs_background": "light"
     },
     "output_type": "display_data"
    }
   ],
   "source": [
    "for column in num_columns:\n",
    "    \n",
    "    # Specify the size of each figure\n",
    "    fig = plt.figure(figsize=(12, 4));\n",
    "    # Creat a subplot on the left and right each\n",
    "    left = fig.add_subplot(1, 2, 1);\n",
    "    right = fig.add_subplot(1, 2, 2);\n",
    "    # Make a temporary df by counting the number of each value\n",
    "    tempdf = df[column].value_counts().to_frame('count')\n",
    "    # Assign '_' to the bar plot and box plot each to avoid printing a long unnecessary text\n",
    "    _ = tempdf.plot.bar(ax=left);\n",
    "    _ = right.boxplot(tempdf['count']);\n",
    "    fig.show()"
   ]
  },
  {
   "cell_type": "markdown",
   "metadata": {},
   "source": [
    "It seems that the most common accidents involve:\n",
    "\n",
    "- 2 people and 2 vehicles\n",
    "- 0 pedestrians or cyclists\n",
    "- 0 to 1 injuries\n",
    "- 0 deaths"
   ]
  },
  {
   "cell_type": "markdown",
   "metadata": {},
   "source": [
    "### How do you deal with outliers in your data analysis?"
   ]
  },
  {
   "cell_type": "markdown",
   "metadata": {},
   "source": [
    "- It's important to think if it makes sense to handle outliers or keep them as they are.\n",
    "- Look at the distribution (e.g., is it normal?) for each column and think whether or not you will be using the column for later analyses (e.g., is there enough variability to explain by other columns?).\n",
    "- You could consider transforming the data (e.g., log transformation).\n",
    "- You could replace outliers with the mean or median of the column.  "
   ]
  },
  {
   "cell_type": "markdown",
   "metadata": {},
   "source": [
    "Let's now get back to Q1. how to define dangerousness:\n",
    "\n",
    "- It might be difficult to use `pedcount`, `pedcylcount`, `seriousinjuries`, and `fatalities` as measures of dangerous locations due to the lack of variability in these columns.\n",
    "- Let's try using the number of accidents as a way to measure a location's dangerousness"
   ]
  },
  {
   "cell_type": "markdown",
   "metadata": {},
   "source": [
    "### Q2. Which locations have had the highest total number of accidents?"
   ]
  },
  {
   "cell_type": "code",
   "execution_count": 27,
   "metadata": {},
   "outputs": [
    {
     "data": {
      "text/html": [
       "<div>\n",
       "<style scoped>\n",
       "    .dataframe tbody tr th:only-of-type {\n",
       "        vertical-align: middle;\n",
       "    }\n",
       "\n",
       "    .dataframe tbody tr th {\n",
       "        vertical-align: top;\n",
       "    }\n",
       "\n",
       "    .dataframe thead th {\n",
       "        text-align: right;\n",
       "    }\n",
       "</style>\n",
       "<table border=\"1\" class=\"dataframe\">\n",
       "  <thead>\n",
       "    <tr style=\"text-align: right;\">\n",
       "      <th></th>\n",
       "      <th>count</th>\n",
       "    </tr>\n",
       "  </thead>\n",
       "  <tbody>\n",
       "    <tr>\n",
       "      <th>BATTERY ST TUNNEL NB BETWEEN ALASKAN WY VI NB AND AURORA AVE N</th>\n",
       "      <td>298</td>\n",
       "    </tr>\n",
       "    <tr>\n",
       "      <th>N NORTHGATE WAY BETWEEN MERIDIAN AVE N AND CORLISS AVE N</th>\n",
       "      <td>295</td>\n",
       "    </tr>\n",
       "    <tr>\n",
       "      <th>BATTERY ST TUNNEL SB BETWEEN AURORA AVE N AND ALASKAN WY VI SB</th>\n",
       "      <td>291</td>\n",
       "    </tr>\n",
       "    <tr>\n",
       "      <th>AURORA AVE N BETWEEN N 117TH PL AND N 125TH ST</th>\n",
       "      <td>280</td>\n",
       "    </tr>\n",
       "    <tr>\n",
       "      <th>6TH AVE AND JAMES ST</th>\n",
       "      <td>271</td>\n",
       "    </tr>\n",
       "    <tr>\n",
       "      <th>AURORA AVE N BETWEEN N 130TH ST AND N 135TH ST</th>\n",
       "      <td>269</td>\n",
       "    </tr>\n",
       "    <tr>\n",
       "      <th>ALASKAN WY VI NB BETWEEN S ROYAL BROUGHAM WAY ON RP AND SENECA ST OFF RP</th>\n",
       "      <td>256</td>\n",
       "    </tr>\n",
       "  </tbody>\n",
       "</table>\n",
       "</div>"
      ],
      "text/plain": [
       "                                                    count\n",
       "BATTERY ST TUNNEL NB BETWEEN ALASKAN WY VI NB A...    298\n",
       "N NORTHGATE WAY BETWEEN MERIDIAN AVE N AND CORL...    295\n",
       "BATTERY ST TUNNEL SB BETWEEN AURORA AVE N AND A...    291\n",
       "AURORA AVE N BETWEEN N 117TH PL AND N 125TH ST        280\n",
       "6TH AVE AND JAMES ST                                  271\n",
       "AURORA AVE N BETWEEN N 130TH ST AND N 135TH ST        269\n",
       "ALASKAN WY VI NB BETWEEN S ROYAL BROUGHAM WAY O...    256"
      ]
     },
     "execution_count": 27,
     "metadata": {},
     "output_type": "execute_result"
    }
   ],
   "source": [
    "locdf = df['location'].value_counts().to_frame('count')\n",
    "locdf = locdf.head(7)\n",
    "locdf"
   ]
  },
  {
   "cell_type": "markdown",
   "metadata": {},
   "source": [
    "- We need to remember that the heavier the traffic is, the more likely there is to be an accident. \n",
    "- So these locations may have the highest numers of accidents, but also may have the highest amounts of overall traffic. "
   ]
  },
  {
   "cell_type": "markdown",
   "metadata": {},
   "source": [
    "Above, we defined dangerousness by the **total** number of incidents. Let's try looking into the number of **severe** incidents."
   ]
  },
  {
   "cell_type": "markdown",
   "metadata": {},
   "source": [
    "### Q3. Which locations have the highest numbers of severe incidents?"
   ]
  },
  {
   "cell_type": "markdown",
   "metadata": {},
   "source": [
    "First, let's take a look at the categories of `severitycode`."
   ]
  },
  {
   "cell_type": "code",
   "execution_count": 28,
   "metadata": {},
   "outputs": [],
   "source": [
    "# Re-labeling serverity so that the categories are self-explanatory\n",
    "df['severitycode'] = df['severitycode'].map({\n",
    "    '0': 'Unknown', \n",
    "    '1': 'Prop_damage_only', \n",
    "    '2': 'Injury',\n",
    "    '2b': 'Serious_injury', '3': 'Fatality'\n",
    "})"
   ]
  },
  {
   "cell_type": "code",
   "execution_count": 29,
   "metadata": {},
   "outputs": [
    {
     "data": {
      "text/html": [
       "<div>\n",
       "<style scoped>\n",
       "    .dataframe tbody tr th:only-of-type {\n",
       "        vertical-align: middle;\n",
       "    }\n",
       "\n",
       "    .dataframe tbody tr th {\n",
       "        vertical-align: top;\n",
       "    }\n",
       "\n",
       "    .dataframe thead th {\n",
       "        text-align: right;\n",
       "    }\n",
       "</style>\n",
       "<table border=\"1\" class=\"dataframe\">\n",
       "  <thead>\n",
       "    <tr style=\"text-align: right;\">\n",
       "      <th></th>\n",
       "      <th>count</th>\n",
       "    </tr>\n",
       "  </thead>\n",
       "  <tbody>\n",
       "    <tr>\n",
       "      <th>Prop_damage_only</th>\n",
       "      <td>136799</td>\n",
       "    </tr>\n",
       "    <tr>\n",
       "      <th>Injury</th>\n",
       "      <td>58344</td>\n",
       "    </tr>\n",
       "    <tr>\n",
       "      <th>Unknown</th>\n",
       "      <td>21484</td>\n",
       "    </tr>\n",
       "    <tr>\n",
       "      <th>Serious_injury</th>\n",
       "      <td>3067</td>\n",
       "    </tr>\n",
       "    <tr>\n",
       "      <th>Fatality</th>\n",
       "      <td>347</td>\n",
       "    </tr>\n",
       "    <tr>\n",
       "      <th>NaN</th>\n",
       "      <td>1</td>\n",
       "    </tr>\n",
       "  </tbody>\n",
       "</table>\n",
       "</div>"
      ],
      "text/plain": [
       "                   count\n",
       "Prop_damage_only  136799\n",
       "Injury             58344\n",
       "Unknown            21484\n",
       "Serious_injury      3067\n",
       "Fatality             347\n",
       "NaN                    1"
      ]
     },
     "execution_count": 29,
     "metadata": {},
     "output_type": "execute_result"
    }
   ],
   "source": [
    "df['severitycode'].value_counts(dropna=False).to_frame('count')"
   ]
  },
  {
   "cell_type": "code",
   "execution_count": 30,
   "metadata": {},
   "outputs": [
    {
     "data": {
      "text/html": [
       "<div>\n",
       "<style scoped>\n",
       "    .dataframe tbody tr th:only-of-type {\n",
       "        vertical-align: middle;\n",
       "    }\n",
       "\n",
       "    .dataframe tbody tr th {\n",
       "        vertical-align: top;\n",
       "    }\n",
       "\n",
       "    .dataframe thead th {\n",
       "        text-align: right;\n",
       "    }\n",
       "</style>\n",
       "<table border=\"1\" class=\"dataframe\">\n",
       "  <thead>\n",
       "    <tr style=\"text-align: right;\">\n",
       "      <th></th>\n",
       "      <th>count</th>\n",
       "    </tr>\n",
       "  </thead>\n",
       "  <tbody>\n",
       "    <tr>\n",
       "      <th>AURORA AVE N BETWEEN N 117TH PL AND N 125TH ST</th>\n",
       "      <td>126</td>\n",
       "    </tr>\n",
       "    <tr>\n",
       "      <th>6TH AVE AND JAMES ST</th>\n",
       "      <td>112</td>\n",
       "    </tr>\n",
       "    <tr>\n",
       "      <th>RAINIER AVE S BETWEEN S BAYVIEW ST AND S MCCLELLAN ST</th>\n",
       "      <td>97</td>\n",
       "    </tr>\n",
       "    <tr>\n",
       "      <th>AURORA AVE N BETWEEN N 130TH ST AND N 135TH ST</th>\n",
       "      <td>96</td>\n",
       "    </tr>\n",
       "    <tr>\n",
       "      <th>N NORTHGATE WAY BETWEEN MERIDIAN AVE N AND CORLISS AVE N</th>\n",
       "      <td>96</td>\n",
       "    </tr>\n",
       "    <tr>\n",
       "      <th>BATTERY ST TUNNEL SB BETWEEN AURORA AVE N AND ALASKAN WY VI SB</th>\n",
       "      <td>93</td>\n",
       "    </tr>\n",
       "    <tr>\n",
       "      <th>WEST SEATTLE BR EB BETWEEN ALASKAN WY VI NB ON RP AND DELRIDGE-W SEATTLE BR EB ON RP</th>\n",
       "      <td>82</td>\n",
       "    </tr>\n",
       "  </tbody>\n",
       "</table>\n",
       "</div>"
      ],
      "text/plain": [
       "                                                    count\n",
       "AURORA AVE N BETWEEN N 117TH PL AND N 125TH ST        126\n",
       "6TH AVE AND JAMES ST                                  112\n",
       "RAINIER AVE S BETWEEN S BAYVIEW ST AND S MCCLEL...     97\n",
       "AURORA AVE N BETWEEN N 130TH ST AND N 135TH ST         96\n",
       "N NORTHGATE WAY BETWEEN MERIDIAN AVE N AND CORL...     96\n",
       "BATTERY ST TUNNEL SB BETWEEN AURORA AVE N AND A...     93\n",
       "WEST SEATTLE BR EB BETWEEN ALASKAN WY VI NB ON ...     82"
      ]
     },
     "execution_count": 30,
     "metadata": {},
     "output_type": "execute_result"
    }
   ],
   "source": [
    "# Select incidents that involved injuries and deaths \n",
    "severity = ['Fatality', 'Serious_injury', 'Injury']\n",
    "sevdf = df[(df['severitycode'].isin(severity))]\n",
    "# Groupby the dataframe by location to rank locations by the number of severe incidents\n",
    "sevcdf = sevdf['location'].value_counts().to_frame('count')\n",
    "# Select the top 7 locations\n",
    "most_sev = sevcdf.head(7)\n",
    "most_sev"
   ]
  },
  {
   "cell_type": "markdown",
   "metadata": {},
   "source": [
    "Let's compare the locations with the highest numbers of **severe** incidents and locations with the highest numbers of **total** incidents."
   ]
  },
  {
   "cell_type": "code",
   "execution_count": 31,
   "metadata": {},
   "outputs": [
    {
     "data": {
      "text/plain": [
       "['6TH AVE AND JAMES ST',\n",
       " 'AURORA AVE N BETWEEN N 117TH PL AND N 125TH ST',\n",
       " 'AURORA AVE N BETWEEN N 130TH ST AND N 135TH ST',\n",
       " 'BATTERY ST TUNNEL SB BETWEEN AURORA AVE N AND ALASKAN WY VI SB',\n",
       " 'N NORTHGATE WAY BETWEEN MERIDIAN AVE N AND CORLISS AVE N',\n",
       " 'RAINIER AVE S BETWEEN S BAYVIEW ST AND S MCCLELLAN ST',\n",
       " 'WEST SEATTLE BR EB BETWEEN ALASKAN WY VI NB ON RP AND DELRIDGE-W SEATTLE BR EB ON RP']"
      ]
     },
     "execution_count": 31,
     "metadata": {},
     "output_type": "execute_result"
    }
   ],
   "source": [
    "# These are the locations with highest number of severe incidents\n",
    "\n",
    "mostsevlocations = list(most_sev.index)\n",
    "sorted(mostsevlocations, key=str.lower)"
   ]
  },
  {
   "cell_type": "code",
   "execution_count": 32,
   "metadata": {},
   "outputs": [
    {
     "data": {
      "text/plain": [
       "['6TH AVE AND JAMES ST',\n",
       " 'ALASKAN WY VI NB BETWEEN S ROYAL BROUGHAM WAY ON RP AND SENECA ST OFF RP',\n",
       " 'AURORA AVE N BETWEEN N 117TH PL AND N 125TH ST',\n",
       " 'AURORA AVE N BETWEEN N 130TH ST AND N 135TH ST',\n",
       " 'BATTERY ST TUNNEL NB BETWEEN ALASKAN WY VI NB AND AURORA AVE N',\n",
       " 'BATTERY ST TUNNEL SB BETWEEN AURORA AVE N AND ALASKAN WY VI SB',\n",
       " 'N NORTHGATE WAY BETWEEN MERIDIAN AVE N AND CORLISS AVE N']"
      ]
     },
     "execution_count": 32,
     "metadata": {},
     "output_type": "execute_result"
    }
   ],
   "source": [
    "# These are the locations with highest total number of incidents (we found them earlier)\n",
    "manyaccident_locations = list(locdf.index)\n",
    "sorted(manyaccident_locations, key=str.lower)"
   ]
  },
  {
   "cell_type": "markdown",
   "metadata": {},
   "source": [
    "- 5 locations appear on both lists\n",
    "- 2 locations only appear on the list of locations with most severe incidents\n",
    "- 2 other locations only appear on the list of locations with highest number of incidents\n",
    "- Looks like there is some overlap between the two lists\n",
    "- Either the total number of accidents or total number of severe accidents could be an indicator of dangerousness\n",
    "- Caution: Locations may not be entered in a standardized manner. Using coordinates may be a better way to identify dangerous locations."
   ]
  },
  {
   "cell_type": "markdown",
   "metadata": {},
   "source": [
    "## Goal 2: identify predictors of accidents"
   ]
  },
  {
   "cell_type": "markdown",
   "metadata": {},
   "source": [
    "Now let's try to find what contributes to accidents by looking at: \n",
    "- External factors\n",
    "- Human factors\n",
    "- Characteristics of the collision site"
   ]
  },
  {
   "cell_type": "markdown",
   "metadata": {},
   "source": [
    "### External factors"
   ]
  },
  {
   "cell_type": "code",
   "execution_count": 33,
   "metadata": {},
   "outputs": [
    {
     "data": {
      "text/plain": [
       "<matplotlib.axes._subplots.AxesSubplot at 0x12535aad0>"
      ]
     },
     "execution_count": 33,
     "metadata": {},
     "output_type": "execute_result"
    },
    {
     "data": {
      "image/png": "[encoded data removed]",
      "text/plain": [
       "<Figure size 432x288 with 1 Axes>"
      ]
     },
     "metadata": {
      "needs_background": "light"
     },
     "output_type": "display_data"
    }
   ],
   "source": [
    "df['lightcond'].value_counts().to_frame('count').plot.bar()"
   ]
  },
  {
   "cell_type": "markdown",
   "metadata": {},
   "source": [
    "There are a lot of subcategories for `dark` conditions. Let's try combining them."
   ]
  },
  {
   "cell_type": "code",
   "execution_count": 34,
   "metadata": {},
   "outputs": [],
   "source": [
    "df['lightcond'] = df['lightcond'].replace({\n",
    "   'DARK - NO STREET LIGHTS': 'dark',\n",
    "   'DARK - STREET LIGHTS OFF': 'dark',\n",
    "   'DARK - STREET LIGHTS ON': 'dark',\n",
    "   'DARK - UNKNOWN LIGHTING': 'dark'\n",
    "})"
   ]
  },
  {
   "cell_type": "code",
   "execution_count": 35,
   "metadata": {},
   "outputs": [
    {
     "data": {
      "text/plain": [
       "<matplotlib.axes._subplots.AxesSubplot at 0x12749f410>"
      ]
     },
     "execution_count": 35,
     "metadata": {},
     "output_type": "execute_result"
    },
    {
     "data": {
      "image/png": "[encoded data removed]",
      "text/plain": [
       "<Figure size 432x288 with 1 Axes>"
      ]
     },
     "metadata": {
      "needs_background": "light"
     },
     "output_type": "display_data"
    }
   ],
   "source": [
    "df['lightcond'].value_counts().to_frame('count').plot.bar()"
   ]
  },
  {
   "cell_type": "markdown",
   "metadata": {},
   "source": [
    "**Exercise**\n",
    "Check the frequencies for `weather`"
   ]
  },
  {
   "cell_type": "code",
   "execution_count": null,
   "metadata": {},
   "outputs": [],
   "source": []
  },
  {
   "cell_type": "markdown",
   "metadata": {},
   "source": [
    "**End of exercise**"
   ]
  },
  {
   "cell_type": "markdown",
   "metadata": {},
   "source": [
    "- Most incidents happened in daylight and a clear weather. \n",
    "- Is a bad weather not a predictor of accidents then?"
   ]
  },
  {
   "cell_type": "markdown",
   "metadata": {},
   "source": [
    "### Human factors"
   ]
  },
  {
   "cell_type": "code",
   "execution_count": 36,
   "metadata": {},
   "outputs": [
    {
     "data": {
      "image/png": "[encoded data removed]",
      "text/plain": [
       "<Figure size 432x288 with 1 Axes>"
      ]
     },
     "metadata": {},
     "output_type": "display_data"
    },
    {
     "data": {
      "image/png": "[encoded data removed]",
      "text/plain": [
       "<Figure size 432x288 with 1 Axes>"
      ]
     },
     "metadata": {},
     "output_type": "display_data"
    },
    {
     "data": {
      "image/png": "[encoded data removed]",
      "text/plain": [
       "<Figure size 432x288 with 1 Axes>"
      ]
     },
     "metadata": {},
     "output_type": "display_data"
    },
    {
     "data": {
      "image/png": "[encoded data removed]",
      "text/plain": [
       "<Figure size 432x288 with 1 Axes>"
      ]
     },
     "metadata": {},
     "output_type": "display_data"
    }
   ],
   "source": [
    "human_factors = ['inattentionind', 'underinfl', 'pedrownotgrnt', 'speeding']\n",
    "for factor in human_factors:\n",
    "    pie_series = df[factor].value_counts(dropna=False) \n",
    "    fig1, ax1 = plt.subplots()\n",
    "    _ = ax1.pie(pie_series.values, labels=pie_series.index, autopct='%1.1f%%')\n",
    "    _ = ax1.axis('equal')  # Equal aspect ratio ensures that pie is drawn as a circle.\n",
    "    _ = plt.title(factor)\n",
    "    plt.show()"
   ]
  },
  {
   "cell_type": "markdown",
   "metadata": {},
   "source": [
    "- As you can see, there are a lot of missing data in these columns. This is something important to keep in mind when we conduct an analysis later. \n",
    "- There are fewer missing values for `underinfl` (whether the driver was under the influence) but there are `0`s and `1`s vs. `n`s and `y`s. If we want to use this column for an analysis later, we should combine these categories, assuming that `0`s = `n`s and `1`s = `y`s.\n",
    "- Under this assumption, in most cases, drivers were NOT under the influence"
   ]
  },
  {
   "cell_type": "markdown",
   "metadata": {},
   "source": [
    "### Characteristics of the collision site"
   ]
  },
  {
   "cell_type": "markdown",
   "metadata": {},
   "source": [
    "**Exercise**\n",
    "In the cell below, the list `site_characteristics` contains all the columns that describes the characteristics of the collision site. Modeling after the bar graphs we saw for the `External Factors` above, create a bar graph for each column. You are welcome to do so for individual column or using a for loop."
   ]
  },
  {
   "cell_type": "code",
   "execution_count": 37,
   "metadata": {},
   "outputs": [],
   "source": [
    "site_characteristics = ['addrtype', 'junctiontype', 'roadcond']"
   ]
  },
  {
   "cell_type": "markdown",
   "metadata": {},
   "source": [
    "**End of exercise**"
   ]
  },
  {
   "cell_type": "markdown",
   "metadata": {},
   "source": [
    "More than half of the incidents happened:\n",
    "- mid-block rather than an intersection\n",
    "- on a dry road"
   ]
  },
  {
   "cell_type": "markdown",
   "metadata": {},
   "source": [
    "So far, we found that many incidents happened\n",
    "- in daylight\n",
    "- in a clear weather\n",
    "- mid-block\n",
    "- on a dry road\n",
    "\n",
    "Given these findings, can we rule out darkness and bad weather as predictors of accidents??"
   ]
  },
  {
   "cell_type": "markdown",
   "metadata": {},
   "source": [
    "### Q3. Can we predict severity from junction type?"
   ]
  },
  {
   "cell_type": "markdown",
   "metadata": {},
   "source": [
    "Note: SEVERITYCODE and SEVERITYDESC have the same information"
   ]
  },
  {
   "cell_type": "code",
   "execution_count": 38,
   "metadata": {},
   "outputs": [
    {
     "data": {
      "text/plain": [
       "<matplotlib.axes._subplots.AxesSubplot at 0x126dcc2d0>"
      ]
     },
     "execution_count": 38,
     "metadata": {},
     "output_type": "execute_result"
    },
    {
     "data": {
      "image/png": "[encoded data removed]",
      "text/plain": [
       "<Figure size 432x288 with 1 Axes>"
      ]
     },
     "metadata": {
      "needs_background": "light"
     },
     "output_type": "display_data"
    }
   ],
   "source": [
    "df.pivot_table(index='junctiontype',\n",
    "               columns='severitycode', aggfunc='size').plot.barh(stacked=True)"
   ]
  },
  {
   "cell_type": "markdown",
   "metadata": {},
   "source": [
    "- Again, most accidents happened mid-block; a large portion of them only resulted in property damage.\n",
    "- Intersection related accidents were also common; the majority only resulted in property damage but some accidents involved injuries as well."
   ]
  },
  {
   "cell_type": "markdown",
   "metadata": {},
   "source": [
    "## Goal 3: Examine increase or decrease in number of accidents over time"
   ]
  },
  {
   "cell_type": "markdown",
   "metadata": {},
   "source": [
    "So far, we've looked at the dataset without considering the longitudinal aspect of it. Let's take a look at the change over time in the number of accidents."
   ]
  },
  {
   "cell_type": "markdown",
   "metadata": {},
   "source": [
    "### Q4. Has the number of accidents increased or decreased over time?"
   ]
  },
  {
   "cell_type": "markdown",
   "metadata": {},
   "source": [
    "Let's first take a look at the general trend over time in the overall number of accidents"
   ]
  },
  {
   "cell_type": "code",
   "execution_count": 39,
   "metadata": {},
   "outputs": [
    {
     "data": {
      "text/plain": [
       "<matplotlib.axes._subplots.AxesSubplot at 0x1270e19d0>"
      ]
     },
     "execution_count": 39,
     "metadata": {},
     "output_type": "execute_result"
    },
    {
     "data": {
      "image/png": "[encoded data removed]",
      "text/plain": [
       "<Figure size 720x576 with 1 Axes>"
      ]
     },
     "metadata": {
      "needs_background": "light"
     },
     "output_type": "display_data"
    }
   ],
   "source": [
    "yeardf = df['year'].value_counts(dropna=False).to_frame('count')\n",
    "# The step above automatcially makes 'year' the index, and sorts the dataframe by 'count'\n",
    "# So, sort the dataframe by index so that it is sorted by year\n",
    "yeardf = yeardf.sort_index()\n",
    "# Exclude 2020 because the data is incomplete\n",
    "yeardf = yeardf.loc[yeardf.index < 2020] \n",
    "yeardf.plot(figsize=(10, 8))"
   ]
  },
  {
   "cell_type": "markdown",
   "metadata": {},
   "source": [
    "- It looks like there was a decline from 2004 to 2010, then an increase to 2015, then a decline again toward 2019.\n",
    "- What might have contributed to these declines and increase in accidents? Change in the volume of traffic? Did the City make changes to the location?"
   ]
  },
  {
   "cell_type": "markdown",
   "metadata": {},
   "source": [
    "Would we see a similar pattern for the dangerous locations we have identified earlier? Let's take a look. "
   ]
  },
  {
   "cell_type": "markdown",
   "metadata": {},
   "source": [
    "### Q5. How has the number of incidents changed over time for the most dangerous locations?"
   ]
  },
  {
   "cell_type": "markdown",
   "metadata": {},
   "source": [
    "Let's look at the changes over time in the locations with the highest number of incidents."
   ]
  },
  {
   "cell_type": "code",
   "execution_count": 40,
   "metadata": {},
   "outputs": [
    {
     "data": {
      "text/html": [
       "<div>\n",
       "<style scoped>\n",
       "    .dataframe tbody tr th:only-of-type {\n",
       "        vertical-align: middle;\n",
       "    }\n",
       "\n",
       "    .dataframe tbody tr th {\n",
       "        vertical-align: top;\n",
       "    }\n",
       "\n",
       "    .dataframe thead th {\n",
       "        text-align: right;\n",
       "    }\n",
       "</style>\n",
       "<table border=\"1\" class=\"dataframe\">\n",
       "  <thead>\n",
       "    <tr style=\"text-align: right;\">\n",
       "      <th></th>\n",
       "      <th>x</th>\n",
       "      <th>y</th>\n",
       "      <th>objectid</th>\n",
       "      <th>inckey</th>\n",
       "      <th>coldetkey</th>\n",
       "      <th>reportno</th>\n",
       "      <th>status</th>\n",
       "      <th>addrtype</th>\n",
       "      <th>intkey</th>\n",
       "      <th>location</th>\n",
       "      <th>exceptrsncode</th>\n",
       "      <th>exceptrsndesc</th>\n",
       "      <th>severitycode</th>\n",
       "      <th>severitydesc</th>\n",
       "      <th>collisiontype</th>\n",
       "      <th>personcount</th>\n",
       "      <th>pedcount</th>\n",
       "      <th>pedcylcount</th>\n",
       "      <th>vehcount</th>\n",
       "      <th>injuries</th>\n",
       "      <th>seriousinjuries</th>\n",
       "      <th>fatalities</th>\n",
       "      <th>incdate</th>\n",
       "      <th>incdttm</th>\n",
       "      <th>junctiontype</th>\n",
       "      <th>sdot_colcode</th>\n",
       "      <th>sdot_coldesc</th>\n",
       "      <th>inattentionind</th>\n",
       "      <th>underinfl</th>\n",
       "      <th>weather</th>\n",
       "      <th>roadcond</th>\n",
       "      <th>lightcond</th>\n",
       "      <th>pedrownotgrnt</th>\n",
       "      <th>sdotcolnum</th>\n",
       "      <th>speeding</th>\n",
       "      <th>st_colcode</th>\n",
       "      <th>st_coldesc</th>\n",
       "      <th>seglanekey</th>\n",
       "      <th>crosswalkkey</th>\n",
       "      <th>hitparkedcar</th>\n",
       "      <th>year</th>\n",
       "      <th>month</th>\n",
       "    </tr>\n",
       "  </thead>\n",
       "  <tbody>\n",
       "    <tr>\n",
       "      <th>81</th>\n",
       "      <td>NaN</td>\n",
       "      <td>NaN</td>\n",
       "      <td>82</td>\n",
       "      <td>59000</td>\n",
       "      <td>59000</td>\n",
       "      <td>2039207</td>\n",
       "      <td>Matched</td>\n",
       "      <td>Block</td>\n",
       "      <td>NaN</td>\n",
       "      <td>BATTERY ST TUNNEL NB BETWEEN ALASKAN WY VI NB ...</td>\n",
       "      <td>NaN</td>\n",
       "      <td>NaN</td>\n",
       "      <td>Prop_damage_only</td>\n",
       "      <td>Property Damage Only Collision</td>\n",
       "      <td>Rear Ended</td>\n",
       "      <td>2</td>\n",
       "      <td>0</td>\n",
       "      <td>0</td>\n",
       "      <td>2</td>\n",
       "      <td>0</td>\n",
       "      <td>0</td>\n",
       "      <td>0</td>\n",
       "      <td>2006-11-02</td>\n",
       "      <td>2006-11-02 00:00:00</td>\n",
       "      <td>Mid-Block (not related to intersection)</td>\n",
       "      <td>14.0</td>\n",
       "      <td>MOTOR VEHICLE STRUCK MOTOR VEHICLE, REAR END</td>\n",
       "      <td>NaN</td>\n",
       "      <td>0</td>\n",
       "      <td>Raining</td>\n",
       "      <td>Wet</td>\n",
       "      <td>Other</td>\n",
       "      <td>NaN</td>\n",
       "      <td>6306003.0</td>\n",
       "      <td>NaN</td>\n",
       "      <td>13</td>\n",
       "      <td>From same direction - both going straight - bo...</td>\n",
       "      <td>0</td>\n",
       "      <td>0</td>\n",
       "      <td>N</td>\n",
       "      <td>2006</td>\n",
       "      <td>11</td>\n",
       "    </tr>\n",
       "    <tr>\n",
       "      <th>126</th>\n",
       "      <td>-122.344896</td>\n",
       "      <td>47.717173</td>\n",
       "      <td>127</td>\n",
       "      <td>18700</td>\n",
       "      <td>18700</td>\n",
       "      <td>1079621</td>\n",
       "      <td>Matched</td>\n",
       "      <td>Block</td>\n",
       "      <td>NaN</td>\n",
       "      <td>AURORA AVE N BETWEEN N 117TH PL AND N 125TH ST</td>\n",
       "      <td>NaN</td>\n",
       "      <td>NaN</td>\n",
       "      <td>Prop_damage_only</td>\n",
       "      <td>Property Damage Only Collision</td>\n",
       "      <td>Other</td>\n",
       "      <td>4</td>\n",
       "      <td>0</td>\n",
       "      <td>0</td>\n",
       "      <td>2</td>\n",
       "      <td>0</td>\n",
       "      <td>0</td>\n",
       "      <td>0</td>\n",
       "      <td>2004-10-04</td>\n",
       "      <td>2004-10-04 00:00:00</td>\n",
       "      <td>Driveway Junction</td>\n",
       "      <td>11.0</td>\n",
       "      <td>MOTOR VEHICLE STRUCK MOTOR VEHICLE, FRONT END ...</td>\n",
       "      <td>NaN</td>\n",
       "      <td>0</td>\n",
       "      <td>Clear</td>\n",
       "      <td>Dry</td>\n",
       "      <td>Daylight</td>\n",
       "      <td>NaN</td>\n",
       "      <td>4278029.0</td>\n",
       "      <td>NaN</td>\n",
       "      <td>21</td>\n",
       "      <td>One car entering driveway access</td>\n",
       "      <td>0</td>\n",
       "      <td>0</td>\n",
       "      <td>N</td>\n",
       "      <td>2004</td>\n",
       "      <td>10</td>\n",
       "    </tr>\n",
       "    <tr>\n",
       "      <th>374</th>\n",
       "      <td>-122.344997</td>\n",
       "      <td>47.725036</td>\n",
       "      <td>375</td>\n",
       "      <td>67300</td>\n",
       "      <td>67300</td>\n",
       "      <td>2829236</td>\n",
       "      <td>Matched</td>\n",
       "      <td>Block</td>\n",
       "      <td>NaN</td>\n",
       "      <td>AURORA AVE N BETWEEN N 130TH ST AND N 135TH ST</td>\n",
       "      <td>NaN</td>\n",
       "      <td>NaN</td>\n",
       "      <td>Injury</td>\n",
       "      <td>Injury Collision</td>\n",
       "      <td>Rear Ended</td>\n",
       "      <td>2</td>\n",
       "      <td>0</td>\n",
       "      <td>0</td>\n",
       "      <td>2</td>\n",
       "      <td>1</td>\n",
       "      <td>0</td>\n",
       "      <td>0</td>\n",
       "      <td>2007-07-20</td>\n",
       "      <td>2007-07-20 17:28:00</td>\n",
       "      <td>Mid-Block (not related to intersection)</td>\n",
       "      <td>14.0</td>\n",
       "      <td>MOTOR VEHICLE STRUCK MOTOR VEHICLE, REAR END</td>\n",
       "      <td>NaN</td>\n",
       "      <td>0</td>\n",
       "      <td>Raining</td>\n",
       "      <td>Wet</td>\n",
       "      <td>Daylight</td>\n",
       "      <td>NaN</td>\n",
       "      <td>7201043.0</td>\n",
       "      <td>NaN</td>\n",
       "      <td>14</td>\n",
       "      <td>From same direction - both going straight - on...</td>\n",
       "      <td>0</td>\n",
       "      <td>0</td>\n",
       "      <td>N</td>\n",
       "      <td>2007</td>\n",
       "      <td>07</td>\n",
       "    </tr>\n",
       "    <tr>\n",
       "      <th>531</th>\n",
       "      <td>-122.332653</td>\n",
       "      <td>47.708655</td>\n",
       "      <td>532</td>\n",
       "      <td>76800</td>\n",
       "      <td>76800</td>\n",
       "      <td>2620638</td>\n",
       "      <td>Matched</td>\n",
       "      <td>Block</td>\n",
       "      <td>NaN</td>\n",
       "      <td>N NORTHGATE WAY BETWEEN MERIDIAN AVE N AND COR...</td>\n",
       "      <td>NaN</td>\n",
       "      <td>NaN</td>\n",
       "      <td>Injury</td>\n",
       "      <td>Injury Collision</td>\n",
       "      <td>Rear Ended</td>\n",
       "      <td>3</td>\n",
       "      <td>0</td>\n",
       "      <td>0</td>\n",
       "      <td>2</td>\n",
       "      <td>2</td>\n",
       "      <td>0</td>\n",
       "      <td>0</td>\n",
       "      <td>2007-04-27</td>\n",
       "      <td>2007-04-27 23:05:00</td>\n",
       "      <td>Mid-Block (not related to intersection)</td>\n",
       "      <td>14.0</td>\n",
       "      <td>MOTOR VEHICLE STRUCK MOTOR VEHICLE, REAR END</td>\n",
       "      <td>NaN</td>\n",
       "      <td>1</td>\n",
       "      <td>Raining</td>\n",
       "      <td>Wet</td>\n",
       "      <td>Dark - Street Lights On</td>\n",
       "      <td>NaN</td>\n",
       "      <td>7117042.0</td>\n",
       "      <td>Y</td>\n",
       "      <td>14</td>\n",
       "      <td>From same direction - both going straight - on...</td>\n",
       "      <td>0</td>\n",
       "      <td>0</td>\n",
       "      <td>N</td>\n",
       "      <td>2007</td>\n",
       "      <td>04</td>\n",
       "    </tr>\n",
       "    <tr>\n",
       "      <th>544</th>\n",
       "      <td>NaN</td>\n",
       "      <td>NaN</td>\n",
       "      <td>545</td>\n",
       "      <td>28100</td>\n",
       "      <td>28100</td>\n",
       "      <td>1778147</td>\n",
       "      <td>Matched</td>\n",
       "      <td>Block</td>\n",
       "      <td>NaN</td>\n",
       "      <td>ALASKAN WY VI NB BETWEEN S ROYAL BROUGHAM WAY ...</td>\n",
       "      <td>NaN</td>\n",
       "      <td>NaN</td>\n",
       "      <td>Prop_damage_only</td>\n",
       "      <td>Property Damage Only Collision</td>\n",
       "      <td>Sideswipe</td>\n",
       "      <td>2</td>\n",
       "      <td>0</td>\n",
       "      <td>0</td>\n",
       "      <td>2</td>\n",
       "      <td>0</td>\n",
       "      <td>0</td>\n",
       "      <td>0</td>\n",
       "      <td>2004-08-12</td>\n",
       "      <td>2004-08-12 17:30:00</td>\n",
       "      <td>Mid-Block (but intersection related)</td>\n",
       "      <td>11.0</td>\n",
       "      <td>MOTOR VEHICLE STRUCK MOTOR VEHICLE, FRONT END ...</td>\n",
       "      <td>NaN</td>\n",
       "      <td>0</td>\n",
       "      <td>Clear</td>\n",
       "      <td>Dry</td>\n",
       "      <td>Daylight</td>\n",
       "      <td>NaN</td>\n",
       "      <td>4225009.0</td>\n",
       "      <td>NaN</td>\n",
       "      <td>12</td>\n",
       "      <td>From same direction - both going straight - on...</td>\n",
       "      <td>0</td>\n",
       "      <td>0</td>\n",
       "      <td>N</td>\n",
       "      <td>2004</td>\n",
       "      <td>08</td>\n",
       "    </tr>\n",
       "  </tbody>\n",
       "</table>\n",
       "</div>"
      ],
      "text/plain": [
       "              x          y  objectid  inckey  coldetkey reportno   status  \\\n",
       "81          NaN        NaN        82   59000      59000  2039207  Matched   \n",
       "126 -122.344896  47.717173       127   18700      18700  1079621  Matched   \n",
       "374 -122.344997  47.725036       375   67300      67300  2829236  Matched   \n",
       "531 -122.332653  47.708655       532   76800      76800  2620638  Matched   \n",
       "544         NaN        NaN       545   28100      28100  1778147  Matched   \n",
       "\n",
       "    addrtype  intkey                                           location  \\\n",
       "81     Block     NaN  BATTERY ST TUNNEL NB BETWEEN ALASKAN WY VI NB ...   \n",
       "126    Block     NaN     AURORA AVE N BETWEEN N 117TH PL AND N 125TH ST   \n",
       "374    Block     NaN     AURORA AVE N BETWEEN N 130TH ST AND N 135TH ST   \n",
       "531    Block     NaN  N NORTHGATE WAY BETWEEN MERIDIAN AVE N AND COR...   \n",
       "544    Block     NaN  ALASKAN WY VI NB BETWEEN S ROYAL BROUGHAM WAY ...   \n",
       "\n",
       "    exceptrsncode exceptrsndesc      severitycode  \\\n",
       "81            NaN           NaN  Prop_damage_only   \n",
       "126           NaN           NaN  Prop_damage_only   \n",
       "374           NaN           NaN            Injury   \n",
       "531           NaN           NaN            Injury   \n",
       "544           NaN           NaN  Prop_damage_only   \n",
       "\n",
       "                       severitydesc collisiontype  personcount  pedcount  \\\n",
       "81   Property Damage Only Collision    Rear Ended            2         0   \n",
       "126  Property Damage Only Collision         Other            4         0   \n",
       "374                Injury Collision    Rear Ended            2         0   \n",
       "531                Injury Collision    Rear Ended            3         0   \n",
       "544  Property Damage Only Collision     Sideswipe            2         0   \n",
       "\n",
       "     pedcylcount  vehcount  injuries  seriousinjuries  fatalities    incdate  \\\n",
       "81             0         2         0                0           0 2006-11-02   \n",
       "126            0         2         0                0           0 2004-10-04   \n",
       "374            0         2         1                0           0 2007-07-20   \n",
       "531            0         2         2                0           0 2007-04-27   \n",
       "544            0         2         0                0           0 2004-08-12   \n",
       "\n",
       "                incdttm                             junctiontype  \\\n",
       "81  2006-11-02 00:00:00  Mid-Block (not related to intersection)   \n",
       "126 2004-10-04 00:00:00                        Driveway Junction   \n",
       "374 2007-07-20 17:28:00  Mid-Block (not related to intersection)   \n",
       "531 2007-04-27 23:05:00  Mid-Block (not related to intersection)   \n",
       "544 2004-08-12 17:30:00     Mid-Block (but intersection related)   \n",
       "\n",
       "     sdot_colcode                                       sdot_coldesc  \\\n",
       "81           14.0       MOTOR VEHICLE STRUCK MOTOR VEHICLE, REAR END   \n",
       "126          11.0  MOTOR VEHICLE STRUCK MOTOR VEHICLE, FRONT END ...   \n",
       "374          14.0       MOTOR VEHICLE STRUCK MOTOR VEHICLE, REAR END   \n",
       "531          14.0       MOTOR VEHICLE STRUCK MOTOR VEHICLE, REAR END   \n",
       "544          11.0  MOTOR VEHICLE STRUCK MOTOR VEHICLE, FRONT END ...   \n",
       "\n",
       "    inattentionind underinfl  weather roadcond                lightcond  \\\n",
       "81             NaN         0  Raining      Wet                    Other   \n",
       "126            NaN         0    Clear      Dry                 Daylight   \n",
       "374            NaN         0  Raining      Wet                 Daylight   \n",
       "531            NaN         1  Raining      Wet  Dark - Street Lights On   \n",
       "544            NaN         0    Clear      Dry                 Daylight   \n",
       "\n",
       "    pedrownotgrnt  sdotcolnum speeding st_colcode  \\\n",
       "81            NaN   6306003.0      NaN         13   \n",
       "126           NaN   4278029.0      NaN         21   \n",
       "374           NaN   7201043.0      NaN         14   \n",
       "531           NaN   7117042.0        Y         14   \n",
       "544           NaN   4225009.0      NaN         12   \n",
       "\n",
       "                                            st_coldesc  seglanekey  \\\n",
       "81   From same direction - both going straight - bo...           0   \n",
       "126                   One car entering driveway access           0   \n",
       "374  From same direction - both going straight - on...           0   \n",
       "531  From same direction - both going straight - on...           0   \n",
       "544  From same direction - both going straight - on...           0   \n",
       "\n",
       "     crosswalkkey hitparkedcar  year month  \n",
       "81              0            N  2006    11  \n",
       "126             0            N  2004    10  \n",
       "374             0            N  2007    07  \n",
       "531             0            N  2007    04  \n",
       "544             0            N  2004    08  "
      ]
     },
     "execution_count": 40,
     "metadata": {},
     "output_type": "execute_result"
    }
   ],
   "source": [
    "manyaccident_df = df[df['location'].isin(locdf.index)]\n",
    "manyaccident_df.head()"
   ]
  },
  {
   "cell_type": "code",
   "execution_count": 41,
   "metadata": {},
   "outputs": [
    {
     "data": {
      "image/png": "[encoded data removed]",
      "text/plain": [
       "<Figure size 432x288 with 1 Axes>"
      ]
     },
     "metadata": {
      "needs_background": "light"
     },
     "output_type": "display_data"
    }
   ],
   "source": [
    "# First get the number of total accidents for each year for each of the 7 locations \n",
    "manyaccident_year_data = manyaccident_df.groupby(\n",
    "    ['location', 'year']).size().to_frame('count').reset_index()\n",
    "# Let's exclude 2020 since data are still coming in\n",
    "manyaccident_year_data = manyaccident_year_data[(manyaccident_year_data['year'] < 2020)]\n",
    "g = sns.lineplot(x=\"year\", y=\"count\", hue=\"location\", data=manyaccident_year_data)\n",
    "g.legend(loc='center left', bbox_to_anchor=(1.25, 0.5), ncol=1);"
   ]
  },
  {
   "cell_type": "markdown",
   "metadata": {},
   "source": [
    "- In general, there is a downward trend toward 2018\n",
    "- Green line is going up after 2018\n",
    "- Purple line is going down after 2018\n",
    "- What might explain these different patterns in different locations?"
   ]
  },
  {
   "cell_type": "markdown",
   "metadata": {},
   "source": [
    "## 9. Understand relationships between columns\n"
   ]
  },
  {
   "cell_type": "markdown",
   "metadata": {},
   "source": [
    "## a. Scatter plots"
   ]
  },
  {
   "cell_type": "code",
   "execution_count": null,
   "metadata": {},
   "outputs": [],
   "source": []
  },
  {
   "cell_type": "markdown",
   "metadata": {},
   "source": [
    "## b. Bar graphs"
   ]
  },
  {
   "cell_type": "code",
   "execution_count": null,
   "metadata": {},
   "outputs": [],
   "source": []
  },
  {
   "cell_type": "markdown",
   "metadata": {},
   "source": [
    "## c. Correlations between variables\n",
    "\n",
    "Dependence or association is any statistical relationship, whether causal or not, between two variables. Correlation quantifies how close two variables are to having a linear relationship with each other. More generally, correlation is used to describe a dependent statistical relationship. Random variables are dependent if they do not satisfy the statistical property of probabilistic independence.  "
   ]
  },
  {
   "cell_type": "code",
   "execution_count": null,
   "metadata": {},
   "outputs": [],
   "source": [
    "\n",
    "fig = plt.figure()\n",
    "ax = fig.add_subplot(111)\n",
    "cax = ax.matshow(df, cmap='coolwarm', vmin=-1, vmax=1)\n",
    "fig.colorbar(cax)\n",
    "ticks = np.arange(0, len(df.columns), 1)\n",
    "ax.set_xticks(ticks)\n",
    "plt.xticks(rotation=90)\n",
    "ax.set_yticks(ticks)\n",
    "ax.set_xticklabels(df.columns)\n",
    "ax.set_yticklabels(df.columns)\n",
    "plt.show();"
   ]
  },
  {
   "cell_type": "code",
   "execution_count": null,
   "metadata": {},
   "outputs": [],
   "source": [
    "df_ = df[[\"year\", \"month\", \"fatalities\", \"seriousinjuries\", \"injuries\",\n",
    "          \"personcount\", \"vehcount\", \"x\", \"y\"]]\n",
    "df_.shape\n",
    "\n",
    "df_ = df_.fillna(0)\n",
    "sns.pairplot(df_, hue=\"vehcount\");"
   ]
  },
  {
   "cell_type": "code",
   "execution_count": null,
   "metadata": {},
   "outputs": [],
   "source": [
    "df_ = df.copy()\n",
    "df_ = df_.select_dtypes(include=np.number)\n",
    "df_.drop(columns=[\"x\", \"y\", \"objectid\", \"intkey\", \"inckey\"], inplace=True)\n",
    "len(list(df_.columns))\n",
    "\n",
    "df_ = df_.fillna(0)\n",
    "sns.pairplot(df_);"
   ]
  },
  {
   "cell_type": "code",
   "execution_count": null,
   "metadata": {},
   "outputs": [],
   "source": [
    "# df.corr()"
   ]
  },
  {
   "cell_type": "code",
   "execution_count": null,
   "metadata": {},
   "outputs": [],
   "source": [
    "df.corr()[df.corr() > .1]"
   ]
  },
  {
   "cell_type": "code",
   "execution_count": null,
   "metadata": {},
   "outputs": [],
   "source": [
    "# df_ = pd.DataFrame({\"year\": df[\"year\"],\n",
    "#                     \"vehcount\": df[\"vehcount\"],\n",
    "#                     \"injuries\": df[\"injuries\"],\n",
    "#                     \"seriousinjuries\": df[\"seriousinjuries\"],\n",
    "#                     \"fatalities\": df[\"fatalities\"]}) #, dtypes = {\"year\" = int,\n",
    "# #                                                               \"vehcount\" = int,\n",
    "# #                                                                \"injuries\" = int})\n",
    "# for col in df_:\n",
    "#     df_[col] = df_[col].astype(int)\n",
    "\n",
    "# df_.dtypes\n",
    "\n",
    "# df_[\"total_injuries\"] = df_[\"injuries\"] + df_[\"seriousinjuries\"] + df_[\"fatalities\"]\n",
    "# df_.head()\n",
    "\n",
    "# sns.FacetGrid(df_, hue=\"vehcount\", size=6) \\\n",
    "#    .map(plt.scatter, \"year\", \"total_injuries\") \\\n",
    "#    .add_legend();"
   ]
  },
  {
   "cell_type": "markdown",
   "metadata": {},
   "source": [
    "Thank you for attending this workshop! We hope it was enjoyable and educational. Please take a few minutes to fill out this brief anonymous survey to give us feedback.\n",
    "\n",
    "https://forms.gle/fpTr351GPQGRuBH29"
   ]
  },
  {
   "cell_type": "code",
   "execution_count": null,
   "metadata": {},
   "outputs": [],
   "source": []
  }
 ],
 "metadata": {
  "kernelspec": {
   "display_name": "Python 3",
   "language": "python",
   "name": "python3"
  },
  "language_info": {
   "codemirror_mode": {
    "name": "ipython",
    "version": 3
   },
   "file_extension": ".py",
   "mimetype": "text/x-python",
   "name": "python",
   "nbconvert_exporter": "python",
   "pygments_lexer": "ipython3",
   "version": "3.7.7"
  }
 },
 "nbformat": 4,
 "nbformat_minor": 4
}
